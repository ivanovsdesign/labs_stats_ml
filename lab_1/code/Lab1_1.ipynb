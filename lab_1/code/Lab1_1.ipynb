{
 "cells": [
  {
   "cell_type": "markdown",
   "metadata": {},
   "source": [
    "# Лабораторная работа 1.1\n",
    "## Вариант 2\n",
    "Иванов О. S4102"
   ]
  },
  {
   "cell_type": "markdown",
   "metadata": {},
   "source": [
    "----------------------------"
   ]
  },
  {
   "cell_type": "markdown",
   "metadata": {},
   "source": [
    "### Задача 1\n",
    "\n",
    "В урне 8 белых и 4 красных шара. Какова вероятность того, что среди пяти наудачу вынутых шаров будет 3 белых?"
   ]
  },
  {
   "cell_type": "markdown",
   "metadata": {},
   "source": [
    "#### Аналитическое решение"
   ]
  },
  {
   "cell_type": "markdown",
   "metadata": {},
   "source": [
    "Задача сводится к нахождению отношения количества сочетаний выбора 3 белых шаров из 8 и 2 красных шаров из 4 к количеству сочетаний выбора 5 шаров из 12:\n",
    "\n",
    "Количество сочетаний:\n",
    "\\begin{aligned}\n",
    "C\\binom{n}{k} = \\frac{n!}{k!(n-k)!}\n",
    "\\end{aligned}\n",
    "\n",
    "Тогда для события \"достать 3 белых шара из 8\" количество сочетаний равно: \n",
    "\\begin{aligned}\n",
    "C\\binom{8}{3} = \\frac{8!}{3!(8-3)!}\n",
    "\\end{aligned}\n",
    "\n",
    "Для события \"достать 2 красных шара из 4\": \n",
    "\\begin{aligned}\n",
    "C\\binom{4}{2} = \\frac{4!}{2!(4-2)!}\n",
    "\\end{aligned}\n",
    "\n",
    "В случае \"достать 5 шаров из 12\" количество сочетаний равно: \n",
    "\\begin{aligned}\n",
    "C\\binom{12}{5} = \\frac{12!}{5!(12-5)!}\n",
    "\\end{aligned}\n",
    "\n",
    "Тогда вероятность того, что среди пяти наудачу вынутых шаров будет 3 белых, равна: \n",
    "\\begin{aligned}\n",
    "P = \\frac{C\\binom{8}{3}\\cdotС\\binom{4}{2}}{C\\binom{12}{5}} = \\frac{\\frac{8!}{3!(8-3)!}\\cdot\\frac{4!}{2!(4-2)!}}{\\frac{12!}{5!(12-5)!}} = 0.42\n",
    "\\end{aligned}"
   ]
  },
  {
   "cell_type": "code",
   "execution_count": 6,
   "metadata": {},
   "outputs": [
    {
     "name": "stdout",
     "output_type": "stream",
     "text": [
      "Вероятность того, что среди пяти наудачу вынутых шаров будет 3 белых, равна: 0.42\n"
     ]
    }
   ],
   "source": [
    "import math\n",
    "import numpy as np\n",
    "\n",
    "def combinations(n, k):\n",
    "    return math.factorial(n)/(math.factorial(k) * math.factorial(n-k))\n",
    "\n",
    "probability = (combinations(8,3) * combinations(4,2)) / combinations(12,5)\n",
    "\n",
    "print(f'Вероятность того, что среди пяти наудачу вынутых шаров будет 3 белых, равна: {np.round(probability, 2)}')"
   ]
  },
  {
   "cell_type": "markdown",
   "metadata": {},
   "source": [
    "### Численное решение\n",
    "\n",
    "Принимаем количество независимых экспериментов $n = 1000000$"
   ]
  },
  {
   "cell_type": "code",
   "execution_count": 25,
   "metadata": {},
   "outputs": [
    {
     "name": "stdout",
     "output_type": "stream",
     "text": [
      "Вероятность того, что среди пяти наудачу вынутых шаров будет 3 белых, равна: 0.42174\n"
     ]
    }
   ],
   "source": [
    "import random\n",
    "\n",
    "urn = [1]*8 + [0]*4 \n",
    "iterations = 5\n",
    "n = 100000\n",
    "\n",
    "success_counter = 0\n",
    "\n",
    "for _ in range(n):\n",
    "    sample = random.sample(urn, iterations)\n",
    "    white_count = sum(sample)\n",
    "    if (white_count == 3):\n",
    "        success_counter+=1\n",
    "\n",
    "print(f'Вероятность того, что среди пяти наудачу вынутых шаров будет 3 белых, равна: {success_counter / n}')\n",
    "\n",
    "\n",
    "        "
   ]
  },
  {
   "cell_type": "markdown",
   "metadata": {},
   "source": [
    "--------------------------------------------"
   ]
  },
  {
   "cell_type": "markdown",
   "metadata": {},
   "source": [
    "### Задача 2\n",
    "\n",
    "Из зенитного орудия производится три выстрела по снижающемуся самолету. Вероятность попадания для 1, 2 и 3 выстрелов 0.4, 0.5, 0.6 соответственно. Определите вероятность не менее двух попаданий."
   ]
  },
  {
   "cell_type": "markdown",
   "metadata": {},
   "source": [
    "#### Аналитическое решение"
   ]
  },
  {
   "cell_type": "markdown",
   "metadata": {},
   "source": [
    "Определим пространство событий \"не менее двух попаданий\". \n",
    "Попадание по самолету может быть осуществлено в 1 и 2, 1 и 3, во 2 и 3 или в 1,2 и 3 выстрелах. \n",
    "Данные события независимы и несовместны. Соответственно, вероятность не менее двух попаданий будет суммой вероятностей возможных исходов: \n",
    "\n",
    "\\begin{aligned}\n",
    "    \\displaystyle\\sum_1^4P = P(1,2,\\overline3)+P(1,\\overline2,3)+P(\\overline1,2,3)+P(1,2,3)=\\\\\\ = 0.4\\cdot0.5\\cdot0.4+0.4\\cdot0.5\\cdot0.6+0.6\\cdot0.5\\cdot0.6+0.4\\cdot0.5\\cdot0.6 = 0.5\n",
    "\\end{aligned}"
   ]
  },
  {
   "cell_type": "markdown",
   "metadata": {},
   "source": [
    "#### Численное решение"
   ]
  },
  {
   "cell_type": "code",
   "execution_count": 5,
   "metadata": {},
   "outputs": [
    {
     "data": {
      "text/plain": [
       "array([False,  True,  True])"
      ]
     },
     "execution_count": 5,
     "metadata": {},
     "output_type": "execute_result"
    }
   ],
   "source": [
    "import numpy as np\n",
    "np.random.rand(3) < probabilities"
   ]
  },
  {
   "cell_type": "code",
   "execution_count": 4,
   "metadata": {},
   "outputs": [
    {
     "name": "stdout",
     "output_type": "stream",
     "text": [
      "Вероятность не менее двух попаданий: 0.49792\n"
     ]
    }
   ],
   "source": [
    "n = 100000\n",
    "\n",
    "probabilities = [0.4, 0.5, 0.6]\n",
    "hits = 0\n",
    "\n",
    "for _ in range(n):\n",
    "    attempt = np.sum(np.random.rand(3) < probabilities)\n",
    "    if attempt >= 2:\n",
    "        hits += 1\n",
    "\n",
    "print(f'Вероятность не менее двух попаданий: {hits / n}')"
   ]
  },
  {
   "cell_type": "markdown",
   "metadata": {},
   "source": [
    "---------------------"
   ]
  },
  {
   "cell_type": "markdown",
   "metadata": {},
   "source": [
    "#### Задача 3\n",
    "\n",
    "В библиотеку поступили три партии книг по 100, 200 и 300 книг. Вероятность того, что книга по математике принадлежит 1, 2 и 3 партии равны 0.6, 0.7, 0.5 соответственно. Какова вероятность того, что взятая наудачу книга по математике?"
   ]
  },
  {
   "cell_type": "markdown",
   "metadata": {},
   "source": [
    "#### Аналитическое решение"
   ]
  },
  {
   "cell_type": "markdown",
   "metadata": {},
   "source": [
    "Вероятностью того, что взятая наудачу книга будет по математике, равна отношению числа книг по математике к общему числу книг: \n",
    "\n",
    "\\begin{aligned}\n",
    "P = \\frac{100\\cdot0.6+200\\cdot0.7+300\\cdot0.5}{100+200+300}=\\frac{60+140+150}{600}=\\\\\\ = \\frac{350}{600} = 0.58(3)\n",
    "\\end{aligned}"
   ]
  },
  {
   "cell_type": "markdown",
   "metadata": {},
   "source": [
    "#### Числовое решение"
   ]
  },
  {
   "cell_type": "code",
   "execution_count": 60,
   "metadata": {},
   "outputs": [
    {
     "name": "stdout",
     "output_type": "stream",
     "text": [
      "Вероятность того, что взятая наудачу книга по математике: 0.57975\n"
     ]
    }
   ],
   "source": [
    "n = 100000\n",
    "\n",
    "batches = [100, 200, 300]\n",
    "probabilities = [0.6, 0.7, 0.5]\n",
    "\n",
    "batches_dict = {}\n",
    "\n",
    "math = 0\n",
    "\n",
    "def generate_batch(size, probability):\n",
    "    return np.random.choice(['math', 'not_math'], size=size, p=[probability, 1-probability])\n",
    "\n",
    "for i in range(1, len(batches)+1, 1):\n",
    "    batches_dict[f'batch_{i}'] = generate_batch(batches[i-1], probabilities[i-1])\n",
    "\n",
    "all_books = np.concatenate([val for val in batches_dict.values()], axis=0)\n",
    "\n",
    "for _ in range(n):\n",
    "    choice = np.random.choice(all_books)\n",
    "    if choice == 'math':\n",
    "        math += 1\n",
    "\n",
    "print(f'Вероятность того, что взятая наудачу книга по математике: {math / n}')\n",
    "\n",
    "    "
   ]
  },
  {
   "cell_type": "markdown",
   "metadata": {},
   "source": [
    "-------------------"
   ]
  },
  {
   "cell_type": "markdown",
   "metadata": {},
   "source": [
    "### Задача 4\n",
    "\n",
    "Четырем лицам назначена деловая встреча на 12 часов дня. Вероятности опоздать для них 0.2, 0.15, 0.3 и 0.1. Найти вероятность того, что хотя бы один прибудет вовремя."
   ]
  },
  {
   "cell_type": "markdown",
   "metadata": {},
   "source": [
    "#### Аналитическое решение"
   ]
  },
  {
   "cell_type": "markdown",
   "metadata": {},
   "source": [
    "Для того, чтобы найти вероятность, что хотя бы один человек прибудет вовремя, необходимо найти вероятность противоположного события \"все опоздают\" и вычесть его из общей вероятности. \n",
    "\n",
    "\\begin{aligned}\n",
    "P = 1 - 0.2\\cdot0.15\\cdot0.3\\cdot0.1 = 0.999\n",
    "\\end{aligned}"
   ]
  },
  {
   "cell_type": "code",
   "execution_count": 62,
   "metadata": {},
   "outputs": [
    {
     "name": "stdout",
     "output_type": "stream",
     "text": [
      "Вероятность, что все опоздают: 0.0009\n",
      "Вероятность, что хотя бы один человек прибудет вовремя: 0.9991\n"
     ]
    }
   ],
   "source": [
    "p_late = 0.2*0.15*0.3*0.1\n",
    "probability = 1 - p_late\n",
    "\n",
    "print(f'Вероятность, что все опоздают: {p_late}')\n",
    "print(f'Вероятность, что хотя бы один человек прибудет вовремя: {probability}')"
   ]
  },
  {
   "cell_type": "markdown",
   "metadata": {},
   "source": [
    "#### Числовое решение"
   ]
  },
  {
   "cell_type": "code",
   "execution_count": 72,
   "metadata": {},
   "outputs": [
    {
     "name": "stdout",
     "output_type": "stream",
     "text": [
      "Вероятность, что хотя бы один человек прибудет на встречу вовремя: 0.9991\n"
     ]
    }
   ],
   "source": [
    "n = 100000\n",
    "\n",
    "probabilities = [0.2, 0.15, 0.3, 0.1]\n",
    "\n",
    "def simulate_appointment(probability):\n",
    "    person_appointment = np.random.choice(['late', 'not_late'], p=[probability, 1-probability])\n",
    "    return person_appointment\n",
    "\n",
    "not_late_count = 0\n",
    "\n",
    "for _ in range(n):\n",
    "    temp_appointment = []\n",
    "    for i in range(len(probabilities)):\n",
    "        temp_appointment.append(simulate_appointment(probabilities[i]))\n",
    "    if any(element == 'not_late' for element in temp_appointment):\n",
    "        not_late_count += 1\n",
    "\n",
    "print(f'Вероятность, что хотя бы один человек прибудет на встречу вовремя: {not_late_count / n}')\n",
    "\n",
    "\n"
   ]
  },
  {
   "cell_type": "markdown",
   "metadata": {},
   "source": [
    "------------------------------"
   ]
  },
  {
   "cell_type": "markdown",
   "metadata": {},
   "source": [
    "------------------------"
   ]
  }
 ],
 "metadata": {
  "kernelspec": {
   "display_name": "base",
   "language": "python",
   "name": "python3"
  },
  "language_info": {
   "codemirror_mode": {
    "name": "ipython",
    "version": 3
   },
   "file_extension": ".py",
   "mimetype": "text/x-python",
   "name": "python",
   "nbconvert_exporter": "python",
   "pygments_lexer": "ipython3",
   "version": "3.11.4"
  }
 },
 "nbformat": 4,
 "nbformat_minor": 2
}
