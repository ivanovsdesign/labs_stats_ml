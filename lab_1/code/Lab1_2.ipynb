{
 "cells": [
  {
   "cell_type": "markdown",
   "metadata": {},
   "source": [
    "# Лабораторная работа 1.2\n",
    "## Вариант 2 \n",
    "Иванов О. S4102"
   ]
  },
  {
   "cell_type": "markdown",
   "metadata": {},
   "source": [
    "-------------------"
   ]
  },
  {
   "cell_type": "markdown",
   "metadata": {},
   "source": [
    "### Задача 1\n",
    "\n",
    "Случайная величина $\\xi$ задана функцией плотности:\n",
    "\n",
    "\\begin{aligned}\n",
    "\n",
    "f_\\xi(x) = \n",
    "    \\begin{dcases}\n",
    "    c \\cdot cos(x), x \\in \\begin{bmatrix} 0, \\frac{\\pi}{4} \\end{bmatrix} \\\\\n",
    "    0, x \\notin \\begin{bmatrix} 0, \\frac{\\pi}{4} \\end{bmatrix}\n",
    "    \\end{dcases}\n",
    "\n",
    "\\end{aligned}"
   ]
  },
  {
   "cell_type": "markdown",
   "metadata": {},
   "source": [
    "1. Найти коэффициент c\n",
    "\n",
    "PDF $f(\\xi)$ неотрицательна и ее интеграл равен 1 на всем выборочном пространстве. Поскольку $f(\\xi)$ равна нулю вне интервала:\n"
   ]
  },
  {
   "cell_type": "markdown",
   "metadata": {},
   "source": [
    "\\begin{aligned}\n",
    "\\begin{bmatrix} 0, \\frac{\\pi}{4} \\end{bmatrix} \n",
    "\\end{aligned}"
   ]
  },
  {
   "cell_type": "markdown",
   "metadata": {},
   "source": [
    "для нахождения константы $c$ необходимо проинтегрировать выражение $c \\cdot cos(x)$ на интервале"
   ]
  },
  {
   "cell_type": "markdown",
   "metadata": {},
   "source": [
    "\\begin{bmatrix} 0, \\frac{\\pi}{4} \\end{bmatrix}"
   ]
  },
  {
   "cell_type": "markdown",
   "metadata": {},
   "source": [
    "\\begin{aligned}\n",
    "\n",
    "\\int_0^\\frac{\\pi}{4}c \\cdot cos(x)dx = 1 \\\\\n",
    "c \\cdot sin(x) \\vert_0^\\frac{\\pi}{4} = 1 \\\\\n",
    "c \\cdot sin(\\frac{\\pi}{4}) - c \\cdot sin(0) = 1 \\\\\n",
    "c = \\frac{1}{sin(\\frac{\\pi}{4})-sin(0)} \\\\\n",
    "c = \\frac{1}{\\frac{\\sqrt2}{2}} \\\\\n",
    "c = 1.41\n",
    "\n",
    "\\end{aligned}"
   ]
  },
  {
   "cell_type": "code",
   "execution_count": 4,
   "metadata": {},
   "outputs": [
    {
     "name": "stdout",
     "output_type": "stream",
     "text": [
      "1.414213562373095\n"
     ]
    }
   ],
   "source": [
    "import math\n",
    "\n",
    "constant = 1/(math.sqrt(2)/2)\n",
    "print(constant)"
   ]
  },
  {
   "cell_type": "code",
   "execution_count": 5,
   "metadata": {},
   "outputs": [
    {
     "data": {
      "text/latex": [
       "$\\displaystyle \\frac{\\sqrt{2} c}{2}$"
      ],
      "text/plain": [
       "sqrt(2)*c/2"
      ]
     },
     "execution_count": 5,
     "metadata": {},
     "output_type": "execute_result"
    }
   ],
   "source": [
    "from sympy import *\n",
    "\n",
    "x, c = symbols('x c')\n",
    "\n",
    "f = c*cos(x)\n",
    "\n",
    "integrate(f, (x, (0, pi/4)))"
   ]
  },
  {
   "cell_type": "markdown",
   "metadata": {},
   "source": [
    "2. Построить функцию распределения $F(\\xi)$"
   ]
  },
  {
   "cell_type": "markdown",
   "metadata": {},
   "source": [
    "Поскольку функция распределения и фнукция плотности определяются формулой: "
   ]
  },
  {
   "cell_type": "markdown",
   "metadata": {},
   "source": [
    "\\begin{aligned}\n",
    "    f_\\xi(x) = F'_\\xi(x)\n",
    "\\end{aligned}"
   ]
  },
  {
   "cell_type": "markdown",
   "metadata": {},
   "source": [
    "тогда функция распределения для непрерывной случайной величины: "
   ]
  },
  {
   "cell_type": "markdown",
   "metadata": {},
   "source": [
    "\\begin{aligned}\n",
    "    F_\\xi(x)_ = \\int_{-\\infin}^\\xi f_\\xi(x)\n",
    "\\end{aligned}"
   ]
  },
  {
   "cell_type": "markdown",
   "metadata": {},
   "source": [
    "тогда"
   ]
  },
  {
   "cell_type": "markdown",
   "metadata": {},
   "source": [
    "\\begin{aligned}\n",
    "\n",
    "F(\\xi) = \n",
    "    \\begin{dcases}\n",
    "    0, \\space x < 0 \\\\\n",
    "    \\int_0^x 1.4142 \\cdot cos(t)dt, \\space x \\in \\begin{bmatrix} 0, \\frac{\\pi}{4} \\end{bmatrix} \\\\\n",
    "    1, \\space x > \\frac{\\pi}{4}\n",
    "    \\end{dcases}\n",
    "\n",
    "\\end{aligned}"
   ]
  },
  {
   "cell_type": "markdown",
   "metadata": {},
   "source": [
    "на интервале $x \\in \\begin{bmatrix} 0, \\frac{\\pi}{4} \\end{bmatrix}$ функция распределения будет иметь вид: "
   ]
  },
  {
   "cell_type": "markdown",
   "metadata": {},
   "source": [
    "\\begin{aligned}\n",
    "\\int_0^\\frac{\\pi}{4} 1.4142 \\cdot cos(t)dt = 1.4142 \\cdot sin(x) - 1.4142 \\cdot sin(0) = 1.4142 \\cdot sin(x)\n",
    "\\end{aligned}"
   ]
  },
  {
   "cell_type": "markdown",
   "metadata": {},
   "source": [
    "тогда функция распределения:"
   ]
  },
  {
   "cell_type": "markdown",
   "metadata": {},
   "source": [
    "\\begin{aligned}\n",
    "\n",
    "F(\\xi) = \n",
    "    \\begin{dcases}\n",
    "    0, \\space x < 0 \\\\\n",
    "    1.4142 \\cdot sin(x), \\space x \\in \\begin{bmatrix} 0, \\frac{\\pi}{4} \\end{bmatrix} \\\\\n",
    "    1, \\space x > \\frac{\\pi}{4}\n",
    "    \\end{dcases}\n",
    "\n",
    "\\end{aligned}"
   ]
  },
  {
   "cell_type": "markdown",
   "metadata": {},
   "source": [
    "Построим функцию распределения: "
   ]
  },
  {
   "cell_type": "markdown",
   "metadata": {},
   "source": [
    "3. Найти математическое ожидание, дисперсию, медиану"
   ]
  },
  {
   "cell_type": "markdown",
   "metadata": {},
   "source": [
    "Математическое ожидание: \n",
    "\n",
    "\\begin{aligned}\n",
    "    E_\\xi = \\int_R x \\cdot f_\\xi(x)dx\n",
    "\\end{aligned}"
   ]
  },
  {
   "cell_type": "markdown",
   "metadata": {},
   "source": [
    "в данном случае:"
   ]
  },
  {
   "cell_type": "markdown",
   "metadata": {},
   "source": [
    "\\begin{aligned}\n",
    "    E_\\xi = \\int_0^{\\frac{\\pi}{4}} t \\cdot с \\cdot cos(t) dt\n",
    "\\end{aligned}"
   ]
  },
  {
   "cell_type": "markdown",
   "metadata": {},
   "source": [
    "Подставляем константу: "
   ]
  },
  {
   "cell_type": "markdown",
   "metadata": {},
   "source": [
    "\\begin{aligned}\n",
    "E_\\xi = \\int_0^\\frac{\\pi}{4} t \\cdot 1.4142 \\cdot cos(t)dt = 0.3712\n",
    "\\end{aligned}"
   ]
  },
  {
   "cell_type": "code",
   "execution_count": 6,
   "metadata": {},
   "outputs": [
    {
     "name": "stdout",
     "output_type": "stream",
     "text": [
      "0.37118460102435324\n"
     ]
    }
   ],
   "source": [
    "import numpy as np\n",
    "from scipy.integrate import quad\n",
    "\n",
    "f = lambda x: x * constant * np.cos(x)\n",
    "\n",
    "expected_value, error = quad(f, 0, np.pi/4)\n",
    "print(expected_value)"
   ]
  },
  {
   "cell_type": "markdown",
   "metadata": {},
   "source": [
    "Найдем дисперсию, используя эквивалентное выражение: "
   ]
  },
  {
   "cell_type": "markdown",
   "metadata": {},
   "source": [
    "\\begin{aligned}\n",
    "    var(X) = E[(X-E[X])^2] = E[X^2] - (E[X])^2\n",
    "\\end{aligned}"
   ]
  },
  {
   "cell_type": "markdown",
   "metadata": {},
   "source": [
    "где"
   ]
  },
  {
   "cell_type": "markdown",
   "metadata": {},
   "source": [
    "\\begin{aligned}\n",
    "    E[X^2] = \\int_{-\\infty}^{+\\infty} x^2f(x)dx\n",
    "\\end{aligned}"
   ]
  },
  {
   "cell_type": "markdown",
   "metadata": {},
   "source": [
    "\\begin{aligned}\n",
    "E_\\xi[X^2] = \\int_0^\\frac{\\pi}{4} t^2 \\cdot 1.4142 \\cdot cos(t)dt = 0.1876\n",
    "\\end{aligned}"
   ]
  },
  {
   "cell_type": "code",
   "execution_count": 7,
   "metadata": {},
   "outputs": [
    {
     "name": "stdout",
     "output_type": "stream",
     "text": [
      "0.1876466018629815\n"
     ]
    }
   ],
   "source": [
    "import numpy as np\n",
    "from scipy.integrate import quad\n",
    "\n",
    "f = lambda x: x**2 * constant * np.cos(x)\n",
    "\n",
    "E_X_squared, error = quad(f, 0, np.pi/4)\n",
    "print(E_X_squared)"
   ]
  },
  {
   "cell_type": "markdown",
   "metadata": {},
   "source": [
    "Тогда дисперсия равна: "
   ]
  },
  {
   "cell_type": "markdown",
   "metadata": {},
   "source": [
    "\\begin{aligned}\n",
    "    var(X) = E[(X-E[X])^2] = E[X^2] - (E[X])^2 = 0.1876 - 0.3712^2 = 0.0499\n",
    "\\end{aligned}"
   ]
  },
  {
   "cell_type": "code",
   "execution_count": 8,
   "metadata": {},
   "outputs": [
    {
     "name": "stdout",
     "output_type": "stream",
     "text": [
      "0.049868593825373175\n"
     ]
    }
   ],
   "source": [
    "variance = E_X_squared - expected_value**2\n",
    "print(variance)"
   ]
  },
  {
   "cell_type": "markdown",
   "metadata": {},
   "source": [
    "Чтобы найти медиану, проинтегрируем PDF от $0$ до $m$"
   ]
  },
  {
   "cell_type": "markdown",
   "metadata": {},
   "source": [
    "\\begin{aligned}\n",
    "   \\int_0^m f_\\xi(x)dx = \\frac{1}{2} \\\\\n",
    "   \\int_0^m c \\cdot cos(x)dx = \\frac{1}{2} \\\\\n",
    "   c \\cdot cos(m) \\vert_0^m = \\frac{1}{2} \\\\\n",
    "   c \\cdot sin(m) = \\frac{1}{2} \\\\ \n",
    "   sin(m) = \\frac{\\frac{1}{2}}{1.4142} \\\\\n",
    "   m = sin^{-1}(\\frac{\\frac{1}{2}}{1.4142}) \\\\\n",
    "   m = 0.3614\n",
    "\\end{aligned}"
   ]
  },
  {
   "cell_type": "code",
   "execution_count": 9,
   "metadata": {},
   "outputs": [
    {
     "data": {
      "text/plain": [
       "0.36136712390670783"
      ]
     },
     "execution_count": 9,
     "metadata": {},
     "output_type": "execute_result"
    }
   ],
   "source": [
    "np.arcsin((1/2)/constant)"
   ]
  },
  {
   "cell_type": "markdown",
   "metadata": {},
   "source": [
    "4. Найти вероятность $P(\\xi > \\frac{\\pi}{6})$"
   ]
  },
  {
   "cell_type": "markdown",
   "metadata": {},
   "source": [
    "$\\frac{\\pi}{6}$ входит в интервал "
   ]
  },
  {
   "cell_type": "markdown",
   "metadata": {},
   "source": [
    "\\begin{bmatrix} 0, \\frac{\\pi}{4} \\end{bmatrix}"
   ]
  },
  {
   "cell_type": "markdown",
   "metadata": {},
   "source": [
    "Вероятность того, что случайная величина $\\xi$ больше $\\frac{\\pi}{6}$ равна 1 - вероятность того, что случайная величина $\\xi$ меньше или равна $\\frac{\\pi}{6}$"
   ]
  },
  {
   "cell_type": "markdown",
   "metadata": {},
   "source": [
    "\\begin{aligned}\n",
    "\n",
    "    P(\\xi > \\frac{\\pi}{6}) = 1 - P(\\xi \\le \\frac{\\pi}{6})\n",
    "\n",
    "\\end{aligned}"
   ]
  },
  {
   "cell_type": "markdown",
   "metadata": {},
   "source": [
    "\\begin{aligned}\n",
    "\n",
    "P(\\xi > \\frac{\\pi}{6}) = 1 - \\int_0^\\frac{\\pi}{6} 1.4142 \\cdot cos(x)dx = 1 - (1.4142 \\cdot sin(\\frac{\\pi}{6}) - 1.4142 \\cdot sin(0)) = 1 - 1.4142 \\cdot sin(\\frac{\\pi}{6}) = 0.2929\n",
    "\n",
    "\\end{aligned}"
   ]
  },
  {
   "cell_type": "code",
   "execution_count": 10,
   "metadata": {},
   "outputs": [
    {
     "name": "stdout",
     "output_type": "stream",
     "text": [
      "0.29289321881345265\n"
     ]
    }
   ],
   "source": [
    "import numpy as np\n",
    "from scipy.integrate import quad\n",
    "\n",
    "# Define the constant and the PDF\n",
    "c = constant\n",
    "f = lambda t: c * np.cos(t)\n",
    "\n",
    "# Calculate P(X <= π/6)\n",
    "prob_less_than_pi_over_6, _ = quad(f, 0, np.pi/6)\n",
    "\n",
    "# Calculate P(X > π/6)\n",
    "prob_greater_than_pi_over_6 = 1 - prob_less_than_pi_over_6\n",
    "\n",
    "print(prob_greater_than_pi_over_6)"
   ]
  },
  {
   "cell_type": "markdown",
   "metadata": {},
   "source": [
    " 5. Графики CDF и PDF"
   ]
  },
  {
   "cell_type": "markdown",
   "metadata": {},
   "source": [
    "График функции распределения (CDF)"
   ]
  },
  {
   "cell_type": "code",
   "execution_count": 21,
   "metadata": {},
   "outputs": [
    {
     "data": {
      "image/png": "[encoded data removed]",
      "text/plain": [
       "<Figure size 800x600 with 1 Axes>"
      ]
     },
     "metadata": {},
     "output_type": "display_data"
    }
   ],
   "source": [
    "import numpy as np\n",
    "import matplotlib.pyplot as plt\n",
    "\n",
    "constant = constant\n",
    "\n",
    "def cdf(x):\n",
    "    return np.piecewise(\n",
    "        x,\n",
    "        [x < 0, (x >= 0) & (x <= np.pi/4), x > np.pi/4],\n",
    "        [0, lambda x: constant*np.sin(x), 1]\n",
    "        )\n",
    "\n",
    "x_values = np.linspace(-3, 3, 1000)\n",
    "\n",
    "vF = np.vectorize(cdf)\n",
    "\n",
    "y_values = vF(x_values)\n",
    "\n",
    "plt.figure(figsize=(8,6))\n",
    "plt.plot(x_values, y_values, label='CDF')\n",
    "plt.title('Функция распределения')\n",
    "plt.xlabel('x')\n",
    "plt.ylabel('F(x)')\n",
    "plt.grid(True)\n",
    "plt.legend()\n",
    "plt.show()"
   ]
  },
  {
   "cell_type": "markdown",
   "metadata": {},
   "source": [
    "График функции плотности (PDF)"
   ]
  },
  {
   "cell_type": "code",
   "execution_count": 114,
   "metadata": {},
   "outputs": [
    {
     "data": {
      "image/png": "[encoded data removed]",
      "text/plain": [
       "<Figure size 800x600 with 1 Axes>"
      ]
     },
     "metadata": {},
     "output_type": "display_data"
    }
   ],
   "source": [
    "import numpy as np\n",
    "import matplotlib.pyplot as plt\n",
    "\n",
    "constant = constant\n",
    "\n",
    "def pdf(x):\n",
    "    return np.piecewise(\n",
    "        x,\n",
    "        [x < 0, (x >= 0) & (x <= np.pi/4), x > np.pi/4],\n",
    "        [0, lambda x: constant*np.cos(x), 0]\n",
    "        )\n",
    "\n",
    "x_values = np.linspace(-3, 3, 1000)\n",
    "\n",
    "vF = np.vectorize(pdf)\n",
    "\n",
    "y_values = vF(x_values)\n",
    "\n",
    "plt.figure(figsize=(8,6))\n",
    "plt.plot(x_values, y_values, label='PDF')\n",
    "plt.title('Функция плотности')\n",
    "plt.xlabel('x')\n",
    "plt.ylabel('f(x)')\n",
    "plt.grid(True)\n",
    "plt.legend()\n",
    "plt.show()"
   ]
  },
  {
   "cell_type": "markdown",
   "metadata": {},
   "source": [
    "6. Сгенерировать выборку из 1000 элементов, отобразить PDF и CDF на одном графике"
   ]
  },
  {
   "cell_type": "code",
   "execution_count": 120,
   "metadata": {},
   "outputs": [
    {
     "data": {
      "text/plain": [
       "<function matplotlib.pyplot.show(close=None, block=None)>"
      ]
     },
     "execution_count": 120,
     "metadata": {},
     "output_type": "execute_result"
    },
    {
     "data": {
      "image/png": "[encoded data removed]",
      "text/plain": [
       "<Figure size 700x1400 with 1 Axes>"
      ]
     },
     "metadata": {},
     "output_type": "display_data"
    }
   ],
   "source": [
    "import scipy.stats as st\n",
    "\n",
    "class my_pdf(st.rv_continuous):\n",
    "    def _pdf(self, x, c):\n",
    "        if x >= 0 and x <= np.pi/4:\n",
    "            return c * np.cos(x)\n",
    "        else:\n",
    "            return 0\n",
    "\n",
    "pdf = my_pdf(a=0, b=np.pi/4, name='pdf')\n",
    "\n",
    "n = 1000\n",
    "\n",
    "uniform = np.random.rand(n)\n",
    "samples = pdf.rvs(constant, size=n)\n",
    "\n",
    "def pdf_f(x):\n",
    "    return np.piecewise(\n",
    "        x,\n",
    "        [x < 0, (x >= 0) & (x <= np.pi/4), x > np.pi/4],\n",
    "        [0, lambda x: constant*np.cos(x), 0]\n",
    "        )\n",
    "\n",
    "def cdf(x):\n",
    "    return np.piecewise(\n",
    "        x,\n",
    "        [x < 0, (x >= 0) & (x <= np.pi/4), x > np.pi/4],\n",
    "        [0, lambda x: constant*np.sin(x), 1]\n",
    "        )\n",
    "\n",
    "x_values = np.linspace(-0.25, 1, 1000)\n",
    "vF = np.vectorize(pdf_f)\n",
    "vFc = np.vectorize(cdf)\n",
    "\n",
    "pdf_values = vF(x_values)\n",
    "cdf_values = vFc(x_values)\n",
    "\n",
    "# Plot the PDF and CDF\n",
    "fig = plt.figure(figsize=(7, 14))\n",
    "ax  = fig.add_subplot(111)\n",
    "plt.plot(x_values, pdf_values, lw=1, color = 'r', label='PDF')\n",
    "plt.plot(x_values, cdf_values, lw=2, color = 'b', label='CDF')\n",
    "plt.title('Выборка')\n",
    "plt.hist(samples, bins=20, label='Выборка', density=True)\n",
    "plt.legend()\n",
    "plt.show"
   ]
  },
  {
   "cell_type": "code",
   "execution_count": 59,
   "metadata": {},
   "outputs": [
    {
     "data": {
      "image/png": "[encoded data removed]",
      "text/plain": [
       "<Figure size 640x480 with 1 Axes>"
      ]
     },
     "metadata": {},
     "output_type": "display_data"
    }
   ],
   "source": [
    "import numpy as np\n",
    "import matplotlib.pyplot as plt\n",
    "import numpy as np\n",
    "import scipy.stats as st\n",
    "\n",
    "\n",
    "PDF = lambda t: c * np.cos(t) if 0 <= t <= np.pi/4 else 0\n",
    "CDF = lambda t: 0 if t < 0 else 1 if t > np.pi/4 else quad(PDF, 0, t)[0]\n",
    "\n",
    "x = np.linspace(-1,1, n)\n",
    "\n",
    "pdf_y=[PDF(t) for t in x]\n",
    "cdf_y = [CDF(t) for t in x]\n",
    "\n",
    "plt.scatter(x, pdf_y, label='PDF', s=5)\n",
    "plt.scatter(x, cdf_y, label='CDF', s=5)\n",
    "plt.legend()\n",
    "plt.show()"
   ]
  },
  {
   "cell_type": "code",
   "execution_count": 54,
   "metadata": {},
   "outputs": [
    {
     "data": {
      "image/png": "[encoded data removed]",
      "text/plain": [
       "<Figure size 640x480 with 1 Axes>"
      ]
     },
     "metadata": {},
     "output_type": "display_data"
    }
   ],
   "source": [
    "import numpy as np\n",
    "import matplotlib.pyplot as plt\n",
    "import numpy as np\n",
    "import scipy.stats as st\n",
    "\n",
    "# class custom_dist(st.rv_continuous):\n",
    "#     def _pdf(self, x):\n",
    "#         return np.piecewise(\n",
    "#         x,\n",
    "#         [x < 0, (x >= 0) & (x <= np.pi/4), x > np.pi/4],\n",
    "#         [0, lambda x: constant*np.cos(x), 1]\n",
    "#         )\n",
    "\n",
    "# distr = custom_dist(a=0, b=np.pi/4, name='custom_distribution')\n",
    "\n",
    "# size = 1000\n",
    "\n",
    "# samples = distr.rvs(size=size)\n",
    "\n",
    "PDF = lambda t: c * np.cos(t) if 0 <= t <= np.pi/4 else 0\n",
    "CDF = lambda t: 0 if t < 0 else 1 if t > np.pi/4 else quad(PDF, 0, t)[0]\n",
    "\n",
    "x = np.linspace(-1,1, 1000)\n",
    "\n",
    "pdf_y=[PDF(t) for t in x]\n",
    "cdf_y = [CDF(t) for t in x]\n",
    "\n",
    "plt.hist(samples)\n",
    "plt.plot(x, pdf_y, label='PDF')\n",
    "plt.plot(x, cdf_y, label='CDF')\n",
    "plt.legend()\n",
    "plt.show()"
   ]
  },
  {
   "cell_type": "markdown",
   "metadata": {},
   "source": [
    "----------------------"
   ]
  },
  {
   "cell_type": "markdown",
   "metadata": {},
   "source": [
    "### Задача 2\n",
    "\n",
    "Время ожидания автобуса для каждого пассажира есть равномерно распредленная случайная величина. Автобусы ходят с интервалом 10 минут. Какова вероятность того, что 3 пассжаира, оказавшиеся на остановке в случайный момент времени, ожидают автобус не более 3 минут."
   ]
  },
  {
   "cell_type": "markdown",
   "metadata": {},
   "source": [
    "Пространство событий лежит в интервале 10 минут. Таким образом, вероятность того, что пассажир будет ждать автобус не более X минут равна отношению X/10. Таким образом, вероятность того, что один пассажир будет ждать автобус не более 3 минут будет 3/10. Поскольку события \"пассажир пришел на остановку\" независимы и случайны, вероятность трех событий будет равна произведению их вероятностей."
   ]
  },
  {
   "cell_type": "markdown",
   "metadata": {},
   "source": [
    "Таким образом:"
   ]
  },
  {
   "cell_type": "markdown",
   "metadata": {},
   "source": [
    "$$\n",
    "    P = P_1 \\cdot P_2 \\cdot P_3 = \\frac{3}{10} \\cdot \\frac{3}{10} \\cdot \\frac{3}{10} = 0.027\n",
    "$$"
   ]
  },
  {
   "cell_type": "markdown",
   "metadata": {},
   "source": [
    "Числовое решение"
   ]
  },
  {
   "cell_type": "markdown",
   "metadata": {},
   "source": [
    "Смоделируем эксперимент. воспользовавшись генератором нормального распределения в библиотеке numpy:"
   ]
  },
  {
   "cell_type": "code",
   "execution_count": 16,
   "metadata": {},
   "outputs": [
    {
     "name": "stdout",
     "output_type": "stream",
     "text": [
      "Вероятность того, что 3 пассажира, \n",
      "оказавшиеся на остановке в случайный момент времени,\n",
      "ожидают автобус не более 3 минут: 0.026895\n"
     ]
    }
   ],
   "source": [
    "import numpy as np\n",
    "\n",
    "def simulate_waiting_times(trials):\n",
    "    count = 0\n",
    "    for _ in range(trials):\n",
    "        passenger1 = np.random.uniform(0, 10)\n",
    "        passenger2 = np.random.uniform(0, 10)\n",
    "        passenger3 = np.random.uniform(0, 10)\n",
    "        \n",
    "        if passenger1 <= 3 and passenger2 <= 3 and passenger3 <= 3:\n",
    "            count += 1\n",
    "    return count / trials\n",
    "\n",
    "p = simulate_waiting_times(1000000)\n",
    "print(f\"Вероятность того, что 3 пассажира, \\nоказавшиеся на остановке в случайный момент времени,\\nожидают автобус не более 3 минут: {p}\")\n"
   ]
  },
  {
   "cell_type": "markdown",
   "metadata": {},
   "source": [
    "-----------------------"
   ]
  },
  {
   "cell_type": "markdown",
   "metadata": {},
   "source": [
    "### Задача 3\n",
    "\n",
    "Ошибка измерения расстояния подчинена нормальному закону. Математическое ожидание и среднеквадратическое отклонение этой ошибки равны соответственно 5 м и 10 м. Найти вероятности того, что измеренное значение дальности будет отклоняться от истинного не более, чем на 15 м. "
   ]
  },
  {
   "cell_type": "markdown",
   "metadata": {},
   "source": [
    "$$\n",
    "    f(x) = \\frac{1}{\\sigma\\sqrt{2\\pi}}e^{-\\frac{1}{2}(\\frac{x-\\mu}{\\sigma})^2}\n",
    "$$"
   ]
  },
  {
   "cell_type": "markdown",
   "metadata": {},
   "source": [
    "$$\n",
    "   P = \\int_0^{15} f(x)\n",
    "$$"
   ]
  },
  {
   "cell_type": "markdown",
   "metadata": {},
   "source": [
    "$$\n",
    "   P = \\int_0^{15}\\frac{1}{\\sigma\\sqrt{2\\pi}}e^{-\\frac{1}{2}(\\frac{x-\\mu}{\\sigma})^2}\n",
    "$$"
   ]
  },
  {
   "cell_type": "markdown",
   "metadata": {},
   "source": [
    "Однако для элементарных функций CDF не выражается, поэтому перейдем от $X$ к $Z$"
   ]
  },
  {
   "cell_type": "markdown",
   "metadata": {},
   "source": [
    "Нас интересуют значения в интервале от $\\mu - 15$ до $\\mu + 15$"
   ]
  },
  {
   "cell_type": "markdown",
   "metadata": {},
   "source": [
    "Вычислим z-score"
   ]
  },
  {
   "cell_type": "markdown",
   "metadata": {},
   "source": [
    "$$\n",
    "    Z_{score} = \\frac{\\mu \\pm 15-\\mu}{\\sigma}\n",
    "$$"
   ]
  },
  {
   "cell_type": "markdown",
   "metadata": {},
   "source": [
    "Для значения $X = \\mu - 15$:"
   ]
  },
  {
   "cell_type": "markdown",
   "metadata": {},
   "source": [
    "$$\n",
    "Z_{score} = \\frac{5 - 15  - 5}{10} = - 1.5\n",
    "$$"
   ]
  },
  {
   "cell_type": "markdown",
   "metadata": {},
   "source": [
    "Для значения $X = \\mu + 15$:"
   ]
  },
  {
   "cell_type": "markdown",
   "metadata": {},
   "source": [
    "$$\n",
    "Z_{score} = \\frac{5 + 15 - 5}{10} = 1.5\n",
    "$$"
   ]
  },
  {
   "cell_type": "markdown",
   "metadata": {},
   "source": [
    "Тогда вероятность $P$ того, что $X \\le 15$ равна $P(-1.5<Z\\le1.5)$"
   ]
  },
  {
   "cell_type": "markdown",
   "metadata": {},
   "source": [
    "Воспользовавшись таблицей площади под графиком слева от Z, получим:"
   ]
  },
  {
   "cell_type": "markdown",
   "metadata": {},
   "source": [
    "$$\n",
    "P(-1.5<Z\\le1.5) = P(Z\\le1.5)-P(Z>-1.5) = 0.9332 - 0.0668 = 0.8664\n",
    "$$"
   ]
  },
  {
   "cell_type": "code",
   "execution_count": 107,
   "metadata": {},
   "outputs": [
    {
     "name": "stdout",
     "output_type": "stream",
     "text": [
      "Вероятность: 0.8664\n"
     ]
    }
   ],
   "source": [
    "from scipy.stats import norm\n",
    "\n",
    "mu = 5  \n",
    "sigma = 10 \n",
    "deviation = 15 \n",
    "\n",
    "z_score_lower = (mu - deviation - mu) / sigma\n",
    "z_score_upper = (mu + deviation - mu) / sigma\n",
    "\n",
    "probability_lower = norm.cdf(z_score_lower)\n",
    "probability_upper = norm.cdf(z_score_upper)\n",
    "\n",
    "probability_within_deviation = probability_upper - probability_lower\n",
    "\n",
    "print(f\"Вероятность: {probability_within_deviation:.4f}\")\n"
   ]
  },
  {
   "cell_type": "markdown",
   "metadata": {},
   "source": [
    "#### Числовое решение"
   ]
  },
  {
   "cell_type": "code",
   "execution_count": 112,
   "metadata": {},
   "outputs": [
    {
     "name": "stdout",
     "output_type": "stream",
     "text": [
      "Вероятность того, что случайная величина\n",
      "меньше или равна 15: 0.866134\n"
     ]
    }
   ],
   "source": [
    "### Задача 3\n",
    "\n",
    "mu = 5\n",
    "sigma = 10\n",
    "limit = 15\n",
    "sample_size = 1000000\n",
    "\n",
    "s = np.random.normal(mu, sigma, sample_size)\n",
    "\n",
    "probability = np.sum(np.abs(s - mu) <= limit) / sample_size\n",
    "\n",
    "print(f'Вероятность того, что случайная величина\\nменьше или равна {limit}: {probability}')"
   ]
  },
  {
   "cell_type": "markdown",
   "metadata": {},
   "source": [
    "--------------"
   ]
  },
  {
   "cell_type": "markdown",
   "metadata": {},
   "source": [
    "### Задача 4\n",
    "\n",
    "Вероятность попадания в цель при одном выстреле равна 0.001. Для поражения цели необходимо не менее двух попаданий. Произведено 5000 выстрелов. Найдите вероятность поражения цели. "
   ]
  },
  {
   "cell_type": "markdown",
   "metadata": {},
   "source": [
    "Имеем дело с биномиальным распределением"
   ]
  },
  {
   "cell_type": "markdown",
   "metadata": {},
   "source": [
    "$$\n",
    "\\begin{array}{c|c|c|c|c|c}\\xi & 0 & 1 & \\ldots & n - 1 & n  \\\\\\hline\\mathsf P & (1-p)^n & C_n^1p(1 - p)^{n-1} & \\ldots & C_n^{n - 1}p^{n-1}(1-p) & p^n\\end{array}\n",
    "$$"
   ]
  },
  {
   "cell_type": "markdown",
   "metadata": {},
   "source": [
    "PMF для биномиального распределения:"
   ]
  },
  {
   "cell_type": "markdown",
   "metadata": {},
   "source": [
    "$$\n",
    "    f(k,n,p) = P(k,n,p) = \\binom{n}{k}p^k(1-p)^{n-k}\n",
    "$$"
   ]
  },
  {
   "cell_type": "markdown",
   "metadata": {},
   "source": [
    "Для данного случая имеем обратное условие $k<2$"
   ]
  },
  {
   "cell_type": "markdown",
   "metadata": {},
   "source": [
    "Параметры, исходя из условия задачи:"
   ]
  },
  {
   "cell_type": "markdown",
   "metadata": {},
   "source": [
    "$$\n",
    "\n",
    "    k < 2 \\\\\n",
    "    n = 5000 \\\\\n",
    "    p = 0.001 \\\\\n",
    "\n",
    "$$"
   ]
  },
  {
   "cell_type": "markdown",
   "metadata": {},
   "source": [
    "Тогда вероятность искомого события будет равна $1-P(при\\space k<2)$"
   ]
  },
  {
   "cell_type": "markdown",
   "metadata": {},
   "source": [
    "$$\n",
    " P(при\\space k<2) = 1 - (P(1) + P(0)) = 0.040\n",
    "$$"
   ]
  },
  {
   "cell_type": "code",
   "execution_count": 18,
   "metadata": {},
   "outputs": [
    {
     "name": "stdout",
     "output_type": "stream",
     "text": [
      "Вероятность: 0.040360310958191856\n"
     ]
    }
   ],
   "source": [
    "from functools import reduce\n",
    "import operator\n",
    "\n",
    "n = 5000\n",
    "p = 0.001\n",
    "\n",
    "def combinations(n, k):\n",
    "    return math.factorial(n)/(math.factorial(k) * math.factorial(n-k))\n",
    "\n",
    "cum_prob = []\n",
    "\n",
    "for k in range(0,2):\n",
    "    probability = combinations(n, k)*(p**k)*(1-p)**(n-k)\n",
    "    cum_prob.append(probability)\n",
    "\n",
    "total_prob = 1\n",
    "total_prob = sum(cum_prob)\n",
    "print(f'Вероятность: {total_prob}')"
   ]
  },
  {
   "cell_type": "markdown",
   "metadata": {},
   "source": [
    "#### Числовое решение"
   ]
  },
  {
   "cell_type": "code",
   "execution_count": 19,
   "metadata": {},
   "outputs": [
    {
     "data": {
      "text/plain": [
       "<BarContainer object of 16 artists>"
      ]
     },
     "execution_count": 19,
     "metadata": {},
     "output_type": "execute_result"
    },
    {
     "data": {
      "image/png": "[encoded data removed]",
      "text/plain": [
       "<Figure size 640x480 with 1 Axes>"
      ]
     },
     "metadata": {},
     "output_type": "display_data"
    }
   ],
   "source": [
    "from collections import Counter\n",
    "\n",
    "n, p = 5000, 0.001\n",
    "s = np.random.binomial(n, p, 5000)\n",
    "res = Counter(s)\n",
    "plt.bar(res.keys(), res.values())"
   ]
  },
  {
   "cell_type": "code",
   "execution_count": 20,
   "metadata": {},
   "outputs": [
    {
     "name": "stdout",
     "output_type": "stream",
     "text": [
      "0.0384\n"
     ]
    }
   ],
   "source": [
    "probability = (res.get(1) + res.get(0))/sum(res.values())\n",
    "print(probability)"
   ]
  }
 ],
 "metadata": {
  "kernelspec": {
   "display_name": "base",
   "language": "python",
   "name": "python3"
  },
  "language_info": {
   "codemirror_mode": {
    "name": "ipython",
    "version": 3
   },
   "file_extension": ".py",
   "mimetype": "text/x-python",
   "name": "python",
   "nbconvert_exporter": "python",
   "pygments_lexer": "ipython3",
   "version": "3.11.4"
  }
 },
 "nbformat": 4,
 "nbformat_minor": 2
}
