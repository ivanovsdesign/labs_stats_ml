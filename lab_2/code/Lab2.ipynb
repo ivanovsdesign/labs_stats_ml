{
 "cells": [
  {
   "cell_type": "markdown",
   "metadata": {},
   "source": [
    "# Лабораторная работа 2\n",
    "## Вариант 1\n",
    "<br>\n",
    "Иванов О. S4102"
   ]
  },
  {
   "cell_type": "markdown",
   "metadata": {},
   "source": [
    "### Математическое ожидание, дисперсия и математическое ожидание квадрата"
   ]
  },
  {
   "cell_type": "markdown",
   "metadata": {},
   "source": [
    "Дано распределение плотности случайной величины:"
   ]
  },
  {
   "cell_type": "markdown",
   "metadata": {},
   "source": [
    "$$\n",
    "    f_\\xi(x) = \\theta^2xe^{-\\theta x}\n",
    "$$"
   ]
  },
  {
   "cell_type": "markdown",
   "metadata": {},
   "source": [
    "Это гаммар-распределение, для которого при $x < 0$\n",
    "$$\n",
    "    f_\\xi(x) = 0\n",
    "$$"
   ]
  },
  {
   "cell_type": "markdown",
   "metadata": {},
   "source": [
    "Для каждого $\\theta$:"
   ]
  },
  {
   "cell_type": "markdown",
   "metadata": {},
   "source": [
    "$$\n",
    "    \\theta \\in \\{0.5, 2, 8\\}\n",
    "$$"
   ]
  },
  {
   "cell_type": "markdown",
   "metadata": {},
   "source": [
    "Аналитически вычислить матожидание, дисперсию, матожидание квадрата"
   ]
  },
  {
   "cell_type": "markdown",
   "metadata": {},
   "source": [
    "#### Вычисление матожидания"
   ]
  },
  {
   "cell_type": "markdown",
   "metadata": {},
   "source": [
    "Поскольку имеем дело с показательным распределением, используем определение математического ожидания для абсолютно непрерывного распределения:"
   ]
  },
  {
   "cell_type": "markdown",
   "metadata": {},
   "source": [
    "$$\n",
    "    E\\xi = \\int\\limits_{-\\infty}^{+\\infty} x f_{\\xi}(x) dx\n",
    "$$"
   ]
  },
  {
   "cell_type": "markdown",
   "metadata": {},
   "source": [
    "Вычисляем для данной функции распределения плотности: "
   ]
  },
  {
   "cell_type": "markdown",
   "metadata": {},
   "source": [
    "$$\n",
    "    E\\xi = \\int\\limits_{0}^{+\\infty} x \\theta^2xe^{-\\theta x} dx\n",
    "$$"
   ]
  },
  {
   "cell_type": "markdown",
   "metadata": {},
   "source": [
    "Интегрируем по частям, используя формулу"
   ]
  },
  {
   "cell_type": "markdown",
   "metadata": {},
   "source": [
    "$$\n",
    "    \\int udv = uv - \\int vdu\n",
    "$$"
   ]
  },
  {
   "cell_type": "markdown",
   "metadata": {},
   "source": [
    "Пусть\n",
    "$$\n",
    "    u = x^2 \\\\\n",
    "    du = 2xdx \\\\\n",
    "$$\n",
    "\n",
    "$$\n",
    "    dv = e^{-\\theta x}dx \\\\\n",
    "    v = -\\frac{e^{-\\theta x}}{\\theta} \\\\\n",
    "$$"
   ]
  },
  {
   "cell_type": "markdown",
   "metadata": {},
   "source": [
    "$$\n",
    "   E\\xi = \\theta^2(x^2 -\\frac{e^{-\\theta x}}{\\theta} + \\frac{2}{\\theta} \\cdot \\int\\limits_{0}^{+\\infin}e^{-\\theta x}xdx)\n",
    "$$"
   ]
  },
  {
   "cell_type": "markdown",
   "metadata": {},
   "source": [
    "Снова интегрируем по частям:"
   ]
  },
  {
   "cell_type": "markdown",
   "metadata": {},
   "source": [
    "$$\n",
    "    u = x \\\\\n",
    "    du = dx\n",
    "$$"
   ]
  },
  {
   "cell_type": "markdown",
   "metadata": {},
   "source": [
    "$$\n",
    "    dv = e^{-\\theta x}dx \\\\\n",
    "    v = -\\frac{e^{-\\theta x}}{\\theta}\n",
    "$$"
   ]
  },
  {
   "cell_type": "markdown",
   "metadata": {},
   "source": [
    "$$\n",
    "    E\\xi = \\theta^2(x^2 -\\frac{e^{-\\theta x}}{\\theta} + \\frac{2}{\\theta} \\cdot (x\\cdot (-\\frac{e^{-\\theta x}}{\\theta}) + \\frac{2}{\\theta} \\int\\limits_{0}^{+\\infin} e^{-\\theta x}dx))\n",
    "$$"
   ]
  },
  {
   "cell_type": "markdown",
   "metadata": {},
   "source": [
    "$$\n",
    "   E\\xi =  \\theta^2(x^2 -\\frac{e^{-\\theta x}}{\\theta} + \\frac{2}{\\theta} \\cdot (x\\cdot (-\\frac{e^{-\\theta x}}{\\theta}) - \\frac{2}{\\theta^2} e^{-\\theta x}))\n",
    "$$"
   ]
  },
  {
   "cell_type": "markdown",
   "metadata": {},
   "source": [
    "$$\n",
    "    E\\xi = \\frac{2}{\\theta}\n",
    "$$"
   ]
  },
  {
   "cell_type": "markdown",
   "metadata": {},
   "source": [
    "Тогда для каждого $\\theta$:\n",
    "\n",
    "$$\n",
    "    \\theta = 0.5: E\\xi = 4 \\\\\n",
    "$$\n",
    "$$\n",
    "    \\theta = 2: E\\xi = 1 \\\\\n",
    "$$\n",
    "$$\n",
    "    \\theta = 8: E\\xi = \\frac{1}{4} \\\\\n",
    "$$"
   ]
  },
  {
   "cell_type": "markdown",
   "metadata": {},
   "source": [
    "Проверим решение с помощью scipy.integrate: "
   ]
  },
  {
   "cell_type": "code",
   "execution_count": 78,
   "metadata": {},
   "outputs": [
    {
     "name": "stdout",
     "output_type": "stream",
     "text": [
      "Theta = 0.5\n",
      "Result: 4.0, Error: 8.486955660083946e-11\n",
      "Theta = 2\n",
      "Result: 0.9999999999999999, Error: 1.3633026582969806e-10\n",
      "Theta = 8\n",
      "Result: 0.25, Error: 3.239160193627488e-09\n"
     ]
    }
   ],
   "source": [
    "import scipy.integrate as integrate\n",
    "import numpy as np\n",
    "\n",
    "def integrand(x, theta):\n",
    "    return x * theta**2 * x * np.exp(-theta * x)\n",
    "\n",
    "theta_values = [0.5, 2, 8]\n",
    "\n",
    "for theta_value in theta_values:\n",
    "    result, error = integrate.quad(integrand, 0, np.inf, args=(theta_value))\n",
    "    print(f\"Theta = {theta_value}\\nResult: {result}, Error: {error}\")\n",
    "\n",
    "\n"
   ]
  },
  {
   "cell_type": "markdown",
   "metadata": {},
   "source": [
    "#### Вычисление дисперсии"
   ]
  },
  {
   "cell_type": "markdown",
   "metadata": {},
   "source": [
    "Формула для расчета дисперсии: \n",
    "$$\n",
    "Var_\\xi = E_{\\xi^2} - (E_\\xi)^2\n",
    "$$"
   ]
  },
  {
   "cell_type": "markdown",
   "metadata": {},
   "source": [
    "$$\n",
    "\n",
    "E_{\\xi^2} = \\int\\limits_{0}^{+\\infty} x^2 \\theta^2xe^{-\\theta x} dx\n",
    "\n",
    "$$\n",
    "\n",
    "Интегрируя по частям, получим математическое ожидание квадрата: \n",
    "\n",
    "$$\n",
    "\n",
    "E_{\\xi^2} = \\frac{6}{\\theta^2}\n",
    "\n",
    "$$"
   ]
  },
  {
   "cell_type": "markdown",
   "metadata": {},
   "source": [
    "Тогда для каждого $\\theta$:\n",
    "\n",
    "$$\n",
    "    \\theta = 0.5: E_{\\xi^2} = 24 \\\\\n",
    "$$\n",
    "$$\n",
    "    \\theta = 2: E_{\\xi^2} = 1.5 \\\\\n",
    "$$\n",
    "$$\n",
    "    \\theta = 8: E_{\\xi^2} = \\frac{3}{32} \\\\\n",
    "$$"
   ]
  },
  {
   "cell_type": "code",
   "execution_count": 79,
   "metadata": {},
   "outputs": [
    {
     "name": "stdout",
     "output_type": "stream",
     "text": [
      "Theta = 0.5\n",
      "Result: 24.0, Error: 7.892953765429494e-09\n",
      "Theta = 2\n",
      "Result: 1.5, Error: 1.4042403263738922e-09\n",
      "Theta = 8\n",
      "Result: 0.09375000000000001, Error: 2.095098931026592e-09\n"
     ]
    }
   ],
   "source": [
    "import scipy.integrate as integrate\n",
    "import numpy as np\n",
    "\n",
    "def integrand(x, theta):\n",
    "    return x**2 * theta**2 * x * np.exp(-theta * x)\n",
    "\n",
    "theta_values = [0.5, 2, 8]\n",
    "\n",
    "for theta_value in theta_values:\n",
    "    result, error = integrate.quad(integrand, 0, np.inf, args=(theta_value))\n",
    "    print(f\"Theta = {theta_value}\\nResult: {result}, Error: {error}\")\n"
   ]
  },
  {
   "cell_type": "markdown",
   "metadata": {},
   "source": [
    "Имеем ранее полученное значение математического ожидания. Тогда: "
   ]
  },
  {
   "cell_type": "markdown",
   "metadata": {},
   "source": [
    "$$\n",
    "    (E_\\xi)^2 = \\frac{4}{\\theta^2}\n",
    "$$"
   ]
  },
  {
   "cell_type": "markdown",
   "metadata": {},
   "source": [
    "Тогда дисперсия: \n",
    "\n",
    "$$\n",
    "    Var_\\xi = \\frac{6}{\\theta^2} - \\frac{4}{\\theta^2} = \\frac{2}{\\theta^2}\n",
    "$$"
   ]
  },
  {
   "cell_type": "markdown",
   "metadata": {},
   "source": [
    "Тогда для каждого $\\theta$:\n",
    "\n",
    "$$\n",
    "    \\theta = 0.5: Var_\\xi = 8 \\\\\n",
    "$$\n",
    "$$\n",
    "    \\theta = 2: Var_\\xi = 0.5 \\\\\n",
    "$$\n",
    "$$\n",
    "    \\theta = 8: Var_\\xi = \\frac{1}{32} \\\\\n",
    "$$"
   ]
  },
  {
   "cell_type": "markdown",
   "metadata": {},
   "source": [
    "$$\n",
    "    k \\in \\{16, 32, ... , 2^i , ... , 2^{15}\\}\n",
    "$$"
   ]
  },
  {
   "cell_type": "markdown",
   "metadata": {},
   "source": [
    "Для того, чтобы построить выборку, необходимо использовать CDF.\n",
    "По определению, CDF вычисляется интегрированием PDF: \n",
    "\n",
    "$$\n",
    "    F_\\xi(x) = \\int\\limits_{-\\infin}^{x}\\theta^2xe^{-\\theta x}dx\n",
    "$$"
   ]
  },
  {
   "cell_type": "code",
   "execution_count": 111,
   "metadata": {},
   "outputs": [],
   "source": [
    "import numpy as np\n",
    "import matplotlib.pyplot as plt\n",
    "from scipy.stats import expon\n",
    "from scipy.optimize import fsolve\n",
    "from scipy import integrate"
   ]
  },
  {
   "cell_type": "code",
   "execution_count": 112,
   "metadata": {},
   "outputs": [],
   "source": [
    "def pdf(x, theta):\n",
    "    return theta**2 * x * np.exp(-theta * x)\n",
    "\n",
    "def cdf(x, theta):\n",
    "    return integrate.quad(lambda t: pdf(t, theta), 0, x)[0]\n",
    "\n",
    "def inverse_cdf(u, theta):\n",
    "    return fsolve(lambda x: cdf(x, theta) - u, x0=0.1)[0]\n",
    "\n",
    "# функция генерации выборки для k из n_элементов, base: число, power_range: степени числа\n",
    "def generate_samples(base, power_range, theta):\n",
    "    samples = {}\n",
    "    for power in power_range:\n",
    "        num_samples = base**power\n",
    "        uniform_samples = np.random.rand(num_samples)\n",
    "        xi_samples = [inverse_cdf(u, theta) for u in uniform_samples] # выборка по обратной функции\n",
    "        sample_mean = sum(xi_samples) / num_samples # вычисляем среднее выбоки\n",
    "        samples.update({num_samples : sample_mean}) # записываем в словарь количество элементов в выборке : среднее выборки\n",
    "    return samples"
   ]
  },
  {
   "cell_type": "code",
   "execution_count": 108,
   "metadata": {},
   "outputs": [],
   "source": [
    "import matplotlib.pyplot as plt\n",
    "\n",
    "# данные значения тета\n",
    "theta_values = [0.5, 2, 8]\n",
    "\n",
    "# генерируем выборки из k элементов (k in 2^2 ... 2^i ... 2^15)\n",
    "mean_samples = [generate_samples(2, range(4, 16, 1), cur_theta) for cur_theta in theta_values]"
   ]
  },
  {
   "cell_type": "code",
   "execution_count": 114,
   "metadata": {},
   "outputs": [
    {
     "data": {
      "image/png": "[encoded data removed]",
      "text/plain": [
       "<Figure size 640x480 with 1 Axes>"
      ]
     },
     "metadata": {},
     "output_type": "display_data"
    }
   ],
   "source": [
    "colors = ['red', 'green', 'blue']\n",
    "\n",
    "# вычисленные значения матожидания\n",
    "calculated_means = [4, 1, 0.25]\n",
    "\n",
    "# извлекаем из словаря значения размера выборки (x)\n",
    "# и средние по выборкам (y), строим график\n",
    "for i in range(len(mean_samples)):\n",
    "    x = list(mean_samples[i].keys())\n",
    "    y = list(mean_samples[i].values())\n",
    "    plt.plot(x, y, color=colors[i], animated=True, alpha = 0.9, linewidth=0.5)\n",
    "\n",
    "for i in range(len(calculated_means)):\n",
    "    plt.axhline(calculated_means[i], color=colors[i], label = f'{theta_values[i]}', linestyle='--', linewidth=0.7)\n",
    "\n",
    "\n",
    "plt.show()\n"
   ]
  },
  {
   "cell_type": "markdown",
   "metadata": {},
   "source": [
    "#### 1.2 Мода, матожидание и медиана"
   ]
  },
  {
   "cell_type": "markdown",
   "metadata": {},
   "source": [
    "Дано распределение плотности показательного распределения со смещением: \n",
    "\n",
    "$$\n",
    "    f_{\\xi}^{\\lambda, a}(x) = \n",
    "    \\begin{cases}\n",
    "        \\lambda e^{-\\lambda(x-a)},&\\ x \\ge a, \\\\\n",
    "        0, &\\ else\n",
    "    \\end{cases}\n",
    "$$"
   ]
  },
  {
   "cell_type": "markdown",
   "metadata": {},
   "source": [
    "Для того, что найти моду при заданной PDF, необходимо продифференцировать функцию. Мода определяется при равенстве производной нулю или при незаданном значении производной. "
   ]
  },
  {
   "cell_type": "markdown",
   "metadata": {},
   "source": [
    "Для $x \\ge a$:"
   ]
  },
  {
   "cell_type": "markdown",
   "metadata": {},
   "source": [
    "$$\n",
    "{f'}_{\\xi}^{\\lambda, a}(x) = \\frac{d}{dx}(\\lambda e^{-\\lambda(x-a)})\n",
    "$$"
   ]
  },
  {
   "cell_type": "markdown",
   "metadata": {},
   "source": [
    "Применяем правило дифференцирования сложной функции (chain rule):"
   ]
  },
  {
   "cell_type": "markdown",
   "metadata": {},
   "source": [
    "$$\n",
    "    \\frac{dy}{dx} = \\frac{dy}{du}\\frac{du}{dx}\n",
    "$$"
   ]
  },
  {
   "cell_type": "markdown",
   "metadata": {},
   "source": [
    "$$\n",
    "{f'}_{\\xi}^{\\lambda, a}(x) = -\\lambda^2 e^{-\\lambda(x-a)}\n",
    "$$"
   ]
  },
  {
   "cell_type": "markdown",
   "metadata": {},
   "source": [
    "Найдем экстремумы, приравняв производную к нулю:"
   ]
  },
  {
   "cell_type": "markdown",
   "metadata": {},
   "source": [
    "$$\n",
    "-\\lambda^2 e^{-\\lambda(x-a)} = 0\n",
    "$$"
   ]
  },
  {
   "cell_type": "markdown",
   "metadata": {},
   "source": [
    "$$\n",
    "e^{-\\lambda(x-a)} = 0\n",
    "$$"
   ]
  },
  {
   "cell_type": "markdown",
   "metadata": {},
   "source": [
    "Видим, что для данного выражения не существует такого x, при котором оно было бы равно нулю (стремится к нулю при $x \\rightarrow \\infin$)"
   ]
  },
  {
   "cell_type": "markdown",
   "metadata": {},
   "source": [
    "Для $x < a$ производная равна нулю на всем интервале, т.к. PDF также равна нулю."
   ]
  },
  {
   "cell_type": "markdown",
   "metadata": {},
   "source": [
    "Данная PDF не имеет определенной моды, т.к. не является симметричной или унимодальной. \n",
    "<br>Мода может быть определена как $x=a$, основываясь на функции, определенной на интервале $x \\ge a$"
   ]
  },
  {
   "cell_type": "markdown",
   "metadata": {},
   "source": [
    "Для первого варианта значения параметров $(\\lambda, a): (1,5)$"
   ]
  },
  {
   "cell_type": "code",
   "execution_count": 86,
   "metadata": {},
   "outputs": [],
   "source": [
    "analytical_mode = 5"
   ]
  },
  {
   "cell_type": "markdown",
   "metadata": {},
   "source": [
    "Тогда, учитывая, что мода определена при $x=a$, мода равна $5$"
   ]
  },
  {
   "cell_type": "markdown",
   "metadata": {},
   "source": [
    "##### Математическое ожидание\n",
    "\n",
    "Математическое ожидание при заданной PDF находится интегрированием функции:\n",
    "$$\n",
    "    E_{\\xi} = \\int\\limits_{-\\infin}^{+\\infin}xf_{\\xi}(x)dx\n",
    "$$"
   ]
  },
  {
   "cell_type": "markdown",
   "metadata": {},
   "source": [
    "Подставим данные значения параметров:\n",
    "\n",
    "$$\n",
    "    f_{\\xi}(x) = \n",
    "    \\begin{cases}\n",
    "        1 \\cdot e^{-x+5},&\\ x \\ge 5, \\\\\n",
    "        0, &\\ else\n",
    "    \\end{cases}\n",
    "$$"
   ]
  },
  {
   "cell_type": "markdown",
   "metadata": {},
   "source": [
    "$$\n",
    "   E_{\\xi} = \\int\\limits_{5}^{+\\infin} xe^{-x+5}dx\n",
    "$$"
   ]
  },
  {
   "cell_type": "markdown",
   "metadata": {},
   "source": [
    "$$\n",
    "   E_{\\xi} = e^5\\int\\limits_{5}^{+\\infin} xe^{-x}dx\n",
    "$$"
   ]
  },
  {
   "cell_type": "markdown",
   "metadata": {},
   "source": [
    "$$\n",
    "\\int\\limits_{5}^{+\\infin} xe^{-x}dx\n",
    "$$"
   ]
  },
  {
   "cell_type": "markdown",
   "metadata": {},
   "source": [
    "Подставляем:\n",
    "$$\n",
    "    u = x \\\\\n",
    "    du = dx\n",
    "$$\n",
    "\n",
    "$$\n",
    "    dv = e^{-x} \\\\\n",
    "    v = -e^{-x}\n",
    "$$"
   ]
  },
  {
   "cell_type": "markdown",
   "metadata": {},
   "source": [
    "$$\n",
    "    -xe^{-x} - \\int\\limits_{5}^{+\\infin}-e^{-x}dx\n",
    "$$"
   ]
  },
  {
   "cell_type": "markdown",
   "metadata": {},
   "source": [
    "$$\n",
    "    -xe^{-x} - e^{-x}\n",
    "$$"
   ]
  },
  {
   "cell_type": "markdown",
   "metadata": {},
   "source": [
    "$$\n",
    "    -xe^{5-x} - e^{5-x} = -(x + 1)e^{5-x} \n",
    "$$"
   ]
  },
  {
   "cell_type": "markdown",
   "metadata": {},
   "source": [
    "Проверяем:"
   ]
  },
  {
   "cell_type": "code",
   "execution_count": 115,
   "metadata": {},
   "outputs": [
    {
     "data": {
      "text/latex": [
       "$\\displaystyle \\left(- x - 1\\right) e^{5 - x}$"
      ],
      "text/plain": [
       "(-x - 1)*exp(5 - x)"
      ]
     },
     "execution_count": 115,
     "metadata": {},
     "output_type": "execute_result"
    }
   ],
   "source": [
    "import sympy as smp \n",
    "\n",
    "x = smp.symbols('x', real=True)\n",
    "f = x * smp.exp(-x+5)\n",
    "\n",
    "smp.integrate(f, x)"
   ]
  },
  {
   "cell_type": "code",
   "execution_count": 116,
   "metadata": {},
   "outputs": [],
   "source": [
    "analytical_expected_value = 6"
   ]
  },
  {
   "cell_type": "markdown",
   "metadata": {},
   "source": [
    "Получаем"
   ]
  },
  {
   "cell_type": "markdown",
   "metadata": {},
   "source": [
    "$$\n",
    "    E_{\\xi} = 6\n",
    "$$"
   ]
  },
  {
   "cell_type": "markdown",
   "metadata": {},
   "source": [
    "##### Медиана"
   ]
  },
  {
   "cell_type": "markdown",
   "metadata": {},
   "source": [
    "Для того, чтобы найти медиану, необходимо найти значения случайной величины, когда CDF равна 1/2"
   ]
  },
  {
   "cell_type": "markdown",
   "metadata": {},
   "source": [
    "CDF находится интегрированием данной PDF"
   ]
  },
  {
   "cell_type": "markdown",
   "metadata": {},
   "source": [
    "$$\n",
    "    f_{\\xi}^{\\lambda, a}(x) = \n",
    "    \\begin{cases}\n",
    "        \\lambda e^{-\\lambda(x-a)},&\\ x \\ge a, \\\\\n",
    "        0, &\\ else\n",
    "    \\end{cases}\n",
    "$$"
   ]
  },
  {
   "cell_type": "markdown",
   "metadata": {},
   "source": [
    "$$\n",
    "    F_{\\xi}(t) = \\int\\limits_{-\\infin}^{x} f_{\\xi}(t)dt\n",
    "$$"
   ]
  },
  {
   "cell_type": "markdown",
   "metadata": {},
   "source": [
    "$$\n",
    "    F_{\\xi}(t) = \\int\\limits_{5}^{x} e^{t-5}dt = \\frac{1}{2}\n",
    "$$"
   ]
  },
  {
   "cell_type": "code",
   "execution_count": 117,
   "metadata": {},
   "outputs": [
    {
     "data": {
      "text/latex": [
       "$\\displaystyle 1 - e^{- \\lambda \\left(- a + x\\right)}$"
      ],
      "text/plain": [
       "1 - exp(-lambda*(-a + x))"
      ]
     },
     "execution_count": 117,
     "metadata": {},
     "output_type": "execute_result"
    }
   ],
   "source": [
    "import sympy as smp\n",
    "\n",
    "x, lambda_val, a = smp.symbols('x lambda a')\n",
    "cdf_expr = smp.integrate(lambda_val*smp.exp(-lambda_val*(x-a)), (x,a,x))\n",
    "cdf_expr"
   ]
  },
  {
   "cell_type": "code",
   "execution_count": 118,
   "metadata": {},
   "outputs": [
    {
     "data": {
      "text/plain": [
       "[5.69314718055995]"
      ]
     },
     "execution_count": 118,
     "metadata": {},
     "output_type": "execute_result"
    }
   ],
   "source": [
    "import sympy as smp\n",
    "\n",
    "x = smp.symbols('x')\n",
    "\n",
    "lambda_val = 1\n",
    "a = 5\n",
    "\n",
    "pdf = lambda_val * smp.exp(-lambda_val * (x - a))\n",
    "\n",
    "cdf = smp.integrate(pdf, (x, a, x))\n",
    "\n",
    "# Solve for x when CDF(x) = 0.5 to find the median\n",
    "analytical_median = smp.solve(cdf - 0.5, x)\n",
    "analytical_median"
   ]
  },
  {
   "cell_type": "markdown",
   "metadata": {},
   "source": [
    "Таким образом, значение медианы $5.693$"
   ]
  },
  {
   "cell_type": "markdown",
   "metadata": {},
   "source": [
    "$$\n",
    "    median = 5.693\n",
    "$$"
   ]
  },
  {
   "cell_type": "markdown",
   "metadata": {},
   "source": [
    "##### Создаем выборку"
   ]
  },
  {
   "cell_type": "markdown",
   "metadata": {},
   "source": [
    "Для того, чтобы сгенерировать выборку, необходимо произвести обратное преобразование CDF (inverse transform sampling)"
   ]
  },
  {
   "cell_type": "markdown",
   "metadata": {},
   "source": [
    "Для этого"
   ]
  },
  {
   "cell_type": "code",
   "execution_count": 119,
   "metadata": {},
   "outputs": [
    {
     "data": {
      "text/latex": [
       "$\\displaystyle \\frac{\\log{\\left(- \\frac{e^{a \\lambda}}{u - 1} \\right)}}{\\lambda}$"
      ],
      "text/plain": [
       "log(-exp(a*lambda)/(u - 1))/lambda"
      ]
     },
     "execution_count": 119,
     "metadata": {},
     "output_type": "execute_result"
    }
   ],
   "source": [
    "from IPython.display import display, Math\n",
    "\n",
    "x, lambda_val, a, u = smp.symbols('x lambda a u')\n",
    "inverse_transform_expr = smp.solve(smp.Eq(cdf_expr, u), x)\n",
    "inverse_transform_expr[0]"
   ]
  },
  {
   "cell_type": "code",
   "execution_count": 133,
   "metadata": {},
   "outputs": [
    {
     "data": {
      "image/png": "[encoded data removed]",
      "text/plain": [
       "<Figure size 640x480 with 1 Axes>"
      ]
     },
     "metadata": {},
     "output_type": "display_data"
    }
   ],
   "source": [
    "import numpy as np\n",
    "import matplotlib.pyplot as plt\n",
    "from scipy.stats import mode\n",
    "\n",
    "num_samples = 10000\n",
    "lambda_val = 1\n",
    "a = 5\n",
    "\n",
    "def pdf_function(x, lambda_val, a):\n",
    "    return lambda_val * np.exp(-lambda_val * (x - a)) * (x >= a)\n",
    "\n",
    "def inverse_cdf_analytic(u, lam, a):\n",
    "    return (np.log((-np.exp(a*lam)/(u-1)))/lam)\n",
    "\n",
    "def manual_median(data):\n",
    "    data.sort()\n",
    "    data_len = len(data)\n",
    "\n",
    "    if data_len % 2 == 1:\n",
    "        median = data[data_len // 2]\n",
    "    else:\n",
    "        median = (data[data_len // 2] + data[data_len // 2 + 1]) / 2\n",
    "    \n",
    "    return median\n",
    "\n",
    "\n",
    "x_values = np.linspace(0, 10, 1000)\n",
    "\n",
    "plt.plot(x_values, pdf_function(x_values, lambda_val, a), label='PDF', color='b')\n",
    "\n",
    "uniform_sample = np.random.rand(num_samples)\n",
    "\n",
    "inverse_sample = [inverse_cdf_analytic(u, lambda_val, a) for u in uniform_sample]\n",
    "\n",
    "inverse_sample_mean = sum(inverse_sample) / len(inverse_sample)\n",
    "inverse_sample_median  = manual_median(inverse_sample)\n",
    "inverse_sample_mode = mode(inverse_sample, keepdims=False)[0]\n",
    "\n",
    "plt.axvline(inverse_sample_mean, linestyle='--', color='r', label=f'Mean: {inverse_sample_mean : .2f}')\n",
    "plt.axvline(inverse_sample_median, linestyle='--', color='g', label = f'Median: {inverse_sample_median : .2f}')\n",
    "plt.axvline(inverse_sample_mode, linestyle='--', color='y', label = f'Mode: {inverse_sample_mode : .2f}')\n",
    "plt.legend()\n",
    "\n",
    "plt.hist(inverse_sample, bins=20, density=True, alpha=0.5)\n",
    "\n",
    "plt.show()\n"
   ]
  },
  {
   "cell_type": "code",
   "execution_count": 93,
   "metadata": {},
   "outputs": [
    {
     "data": {
      "image/png": "[encoded data removed]",
      "text/plain": [
       "<Figure size 640x480 with 1 Axes>"
      ]
     },
     "metadata": {},
     "output_type": "display_data"
    }
   ],
   "source": [
    "lam = 1\n",
    "a = 5\n",
    "\n",
    "n_samples = 10000\n",
    "\n",
    "def pdf(x, lam, a):\n",
    "    return lam * np.exp(-lam * (x - a)) * (x >= a)\n",
    "\n",
    "def cdf_function(x, lam, a):\n",
    "    return  1 - np.exp(-lam * (-a + x)) * (x >= a)\n",
    "\n",
    "x_values = np.linspace(0, 10, n_samples)\n",
    "uniform_distr = np.random.rand(n_samples)\n",
    "\n",
    "\n",
    "plt.plot(x_values, cdf_function(x_values, lam, a), label='CDF')\n",
    "plt.axvline(analytical_mode, color='y', linestyle='--', label = f'Мода: {analytical_mode}')\n",
    "plt.axvline(analytical_expected_value, color='r', linestyle='--', label=f'Матожидание: {analytical_expected_value}')\n",
    "plt.axvline(analytical_median, color='g', linestyle='--', label=f'Медиана: {analytical_median[0] : .2f}')\n",
    "plt.legend(loc=1, bbox_to_anchor=(0.5, 0., 1, 0.5))\n",
    "plt.show()"
   ]
  },
  {
   "cell_type": "markdown",
   "metadata": {},
   "source": [
    "#### 1.3 Совместное распределение двух случайных величин"
   ]
  },
  {
   "cell_type": "markdown",
   "metadata": {},
   "source": [
    "$$\n",
    "\\begin{array}{|c|c|c|c|}\n",
    "\\hline\n",
    "{\\xi / \\eta} & 1 & 2 & 3 & ...\\\\\n",
    "\\hline\n",
    "\\text{-1} & {\\frac{2}{5} \\cdot \\frac{1}{2^1}} & {\\frac{2}{5} \\cdot \\frac{1}{2^2}}  & {\\frac{2}{5} \\cdot \\frac{1}{2^3}} & {...} \\\\\n",
    "\\hline\n",
    "\\text{0} & {\\frac{1}{5} \\cdot \\frac{1}{2^1}} & {\\frac{1}{5} \\cdot \\frac{1}{2^2}} & {\\frac{1}{5} \\cdot \\frac{1}{2^3}} & {...} \\\\\n",
    "\\hline\n",
    "\\text{1} & {\\frac{2}{5} \\cdot \\frac{1}{2^1}} & {\\frac{2}{5} \\cdot \\frac{1}{2^2}} & {\\frac{2}{5} \\cdot \\frac{1}{2^3}} & {...}\\\\\n",
    "\\hline\n",
    "\\end{array}\n",
    "$$\n"
   ]
  },
  {
   "cell_type": "markdown",
   "metadata": {},
   "source": [
    "Корреляционная матрица рассчитывается по следующей формуле: \n",
    "\n",
    "$$\n",
    "    Corr({\\xi, \\eta}) = \\frac{Cov({\\xi, \\eta})}{\\sqrt{Var(\\xi) \\cdot Var(\\eta)}}\n",
    "$$\n",
    " "
   ]
  },
  {
   "cell_type": "markdown",
   "metadata": {},
   "source": [
    "$$\n",
    "    Cov(\\xi, \\eta) = E_{\\xi \\eta} - E_{\\xi} \\cdot E_{\\eta}\n",
    "$$"
   ]
  },
  {
   "cell_type": "markdown",
   "metadata": {},
   "source": [
    "$$\n",
    "\n",
    "    E_{\\xi \\eta} = \\sum_{\\xi} \\sum_{\\eta} \\xi \\eta \\cdot P(\\xi. \\eta)\n",
    "\n",
    "$$\n",
    "\n",
    "$$\n",
    "     E_{\\xi \\eta} = -1 \\cdot \\frac{2}{5} \\cdot \\frac{1}{2^\\eta} + 0 \\cdot \\frac{1}{5} \\cdot \\frac{1}{2^\\eta} + 1 \\cdot \\frac{2}{5} \\cdot \\frac{1}{2^\\eta} = 0\n",
    "$$\n"
   ]
  },
  {
   "cell_type": "markdown",
   "metadata": {},
   "source": [
    "$$\n",
    "    E_{\\xi} = \\sum_{\\xi} \\xi \\cdot P(\\xi)\n",
    "$$\n",
    "\n",
    "$$\n",
    "    E_{\\xi} = -1 \\cdot \\frac{2}{5}  + 0 \\cdot \\frac{1}{5}  + 1 \\cdot \\frac{2}{5}  = 0\n",
    "$$\n",
    "\n",
    "$$\n",
    "    E_{\\xi^2} = 1 \\cdot \\frac{2}{5}  + 0 \\cdot \\frac{1}{5}  + 1 \\cdot \\frac{2}{5}  = \\frac{4}{5}\n",
    "$$\n",
    "\n",
    "$$\n",
    "    Var_\\xi = \\frac{4}{5}\n",
    "$$\n",
    "\n",
    "$$\n",
    "    E_{\\eta} = \\sum_{\\eta} \\eta \\cdot P(\\eta)\n",
    "    E_{\\eta} = \\sum_{\\eta} \\eta \\cdot P{\\eta} = \\sum_{\\eta} \\eta \\cdot \\frac{1}{2^\\eta}\n",
    "$$"
   ]
  },
  {
   "cell_type": "markdown",
   "metadata": {},
   "source": [
    "$$\n",
    "    E_{\\eta} = \\sum_{\\eta} \\eta \\cdot P{\\eta} = \\sum_{\\eta} \\eta \\cdot \\frac{1}{2^\\eta}\n",
    "$$\n",
    "\n",
    "$$\n",
    "    E_{\\eta^2} = \\sum_{\\eta} \\eta^2 \\cdot P{\\eta} = \\sum_{\\eta} \\eta^2 \\cdot \\frac{1}{2^\\eta}\n",
    "$$\n",
    "\n",
    "$$\n",
    "    Var_\\xi = \n",
    "$$"
   ]
  },
  {
   "cell_type": "markdown",
   "metadata": {},
   "source": [
    "Найдем ковариационную матрицу"
   ]
  },
  {
   "cell_type": "code",
   "execution_count": 137,
   "metadata": {},
   "outputs": [
    {
     "name": "stdout",
     "output_type": "stream",
     "text": [
      "Correlation Matrix:\n",
      "[[ 1.00000000e+00 -9.74832667e-04]\n",
      " [-9.74832667e-04  1.00000000e+00]]\n"
     ]
    }
   ],
   "source": [
    "import numpy as np\n",
    "\n",
    "np.random.seed(0)\n",
    "num_samples = 1000000\n",
    "\n",
    "# Simulate data for eta\n",
    "eta_values = np.arange(1, 63)\n",
    "eta_probs = 1 / 2 ** eta_values\n",
    "eta_probs /= np.sum(eta_probs)\n",
    "eta_samples = np.random.choice(eta_values, size=num_samples, p=eta_probs)\n",
    "\n",
    "# Simulate data for xi\n",
    "xi_values = np.array([-1, 0, 1])\n",
    "xi_probs = np.array([2/5, 1/5, 2/5])\n",
    "xi_samples = np.random.choice(xi_values, size=num_samples, p=xi_probs)\n",
    "\n",
    "# Calculate the correlation between eta and xi\n",
    "correlation_matrix = np.corrcoef(eta_samples, xi_samples)\n",
    "\n",
    "print(\"Correlation Matrix:\")\n",
    "print(correlation_matrix)\n"
   ]
  }
 ],
 "metadata": {
  "kernelspec": {
   "display_name": "base",
   "language": "python",
   "name": "python3"
  },
  "language_info": {
   "codemirror_mode": {
    "name": "ipython",
    "version": 3
   },
   "file_extension": ".py",
   "mimetype": "text/x-python",
   "name": "python",
   "nbconvert_exporter": "python",
   "pygments_lexer": "ipython3",
   "version": "3.11.4"
  }
 },
 "nbformat": 4,
 "nbformat_minor": 2
}
