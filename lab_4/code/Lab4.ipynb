{
 "cells": [
  {
   "cell_type": "code",
   "execution_count": 166,
   "metadata": {},
   "outputs": [],
   "source": [
    "import numpy as np\n",
    "import pandas as pd\n",
    "from sklearn.metrics import r2_score\n",
    "\n",
    "class MyLinearRegression:\n",
    "    \"\"\"\n",
    "    Parameters\n",
    "    ----------\n",
    "    regularization : {None, 'l1', 'l2', 'l1l2'}, default=None\n",
    "        Какую регуляризацию добавить к модели. Если значение `None`, то без регуляризации.\n",
    "\n",
    "    weight_calc : {'matrix', 'gd', 'sgd'}, default='matrix'\n",
    "        Каким образом вычислять вектор весов: матрично ('matrix'), градиентным спуском ('gd') или стохастическим градиентным спуском ('sgd'). При этом, при 'l1' или 'l1l2' нельзя использовать параметр 'matrix'. \n",
    "\n",
    "    Attributes\n",
    "    ----------\n",
    "    coefs_ : Вектор коэффициентов, размера (1, n+1), где n — количество признаков. n+1 = количество признаков + фиктивная единичная колонка для смещения.\n",
    "\n",
    "    feature_names_in_ : Массив из n+1 элемента, где первые n элементов — названия соответствующих признаков, а n+1 элемент — 'bias'\n",
    "    \"\"\"\n",
    "    \n",
    "    def __init__(self, regularization=None, weight_calc='matrix', lambda_1 = None, lambda_2 = None, batch_size=20, learning_rate=0.01, epochs=1000):\n",
    "        if regularization not in [None, 'l1', 'l2', 'l1l2']:\n",
    "            raise TypeError(f\"Параметр regularization не может принимать значение '{regularization}'\")\n",
    "        if weight_calc not in ['matrix', 'gd', 'sgd']:\n",
    "            raise TypeError(f\"Параметр weight_calc не может принимать значение '{weight_calc}'\")\n",
    "        if regularization in ['l1', 'l1l2'] and lambda_1 is None:\n",
    "            raise TypeError(f\"Значение коэффициента регулризации l1 не задано\")\n",
    "        if regularization in ['l2', 'l1l2'] and lambda_2 is None:\n",
    "            raise TypeError(f\"Значение коэффициента регулризации l2 не задано\")\n",
    "        \n",
    "        self.regularization = regularization\n",
    "        self.weight_calc = weight_calc\n",
    "        self.lambda_1 = lambda_1\n",
    "        self.lambda_2 = lambda_2\n",
    "        self.batch_size = batch_size\n",
    "        self.feature_names_in = None\n",
    "        self.learning_rate = learning_rate\n",
    "        self.epochs = epochs\n",
    "        self.loss_array = None\n",
    "\n",
    "    def regularize(self, gradients, w):\n",
    "        if self.regularization == 'l1':\n",
    "            gradients[1:] += self.lambda_1 * np.sign(w[1:]) # знаковая функция, -1 если значение отриц., 1, если положительное\n",
    "        elif self.regularization == 'l2':\n",
    "            gradients[1:] += 2 * self.lambda_2 * w[1:]\n",
    "        elif self.regularization == 'l1l2':\n",
    "            gradients[1:] += self.lambda_1 * np.sign(w[1:]) + 2 * self.lambda_2 * w[1:]\n",
    "        return gradients\n",
    "\n",
    "    def _mean_squared_error(self, X, y, w): # Функции для наглядности, почему-то не работают как надо при вызове в цикле\n",
    "        y_pred = np.dot(X, w)\n",
    "        mse = np.mean((y_pred - y)**2)\n",
    "    \n",
    "        return mse\n",
    "    \n",
    "    def mean_squared_error_gradient(self, w, X, y): # Функции для наглядности, почему-то не работают как надо при вызове в цикле\n",
    "        y_pred = np.dot(X, w)\n",
    "        gradient = -2 * np.dot(X.T, (y - y_pred)) / len(y)\n",
    "    \n",
    "        return gradient\n",
    "    \n",
    "    def _matrix_weight_calc(self, X, y):\n",
    "        if self.regularization in ['l1', 'l1l2']:\n",
    "            raise TypeError(f'Регуляризацию {self.regularization} невозможно использовать при вычислении весов матричным методом')\n",
    "        if self.regularization == 'l2':\n",
    "            n = X.shape[1] - 1  # количество признаков\n",
    "            identity_matrix = np.eye(n + 1)  # единичная матрица\n",
    "            identity_matrix[0, 0] = 0  # не применять регуляризацию к смещению (bias)\n",
    "            return np.linalg.inv(X.T @ X + 2 * self.lambda_2 * identity_matrix) @ X.T @ y  # матричный метод с L2-регуляризацией\n",
    "        if self.regularization is None:\n",
    "            return np.linalg.inv(X.T @ X) @ X.T @ y # матричный метод\n",
    "\n",
    "    def _gd_weight_calc(self, X, y):\n",
    "        w_init = np.ones(X.shape[1])\n",
    "        print(f'w_init: {w_init}')\n",
    "        w = w_init\n",
    "        loss_array = []\n",
    "\n",
    "        for _ in range(self.epochs):\n",
    "            gradient = -2 * np.dot(X.T, (y - np.dot(X, w))) / len(y) # mse gradient\n",
    "            if self.regularization is not None:\n",
    "                gradient = self.regularize(gradient, w) # регуляризация\n",
    "            w = w - self.learning_rate * gradient\n",
    "            current_loss = np.mean((np.dot(X, w) - y)**2) # mse\n",
    "            loss_array.append(current_loss)\n",
    "            #print(f\"Iteration {_ + 1}/{self.epochs}, Loss: {current_loss}\")\n",
    "        return w, loss_array\n",
    "    \n",
    "\n",
    "    def _sgd_weight_calc(self, X, y):\n",
    "        w_init = np.ones(X.shape[1])\n",
    "        w = w_init\n",
    "        loss_array = []\n",
    "\n",
    "        for _ in range(self.epochs):\n",
    "            for i in range(0, X.shape[0], self.batch_size):\n",
    "                X_batch = X[i:i + self.batch_size]\n",
    "                y_batch = y[i:i + self.batch_size]\n",
    "                gradient = -2 * np.dot(X_batch.T, (y_batch - np.dot(X_batch, w))) / len(y_batch) # mse gradient\n",
    "                if self.regularization is not None:\n",
    "                    gradient = self.regularize(gradient, w) # регуляризация\n",
    "                w = w - self.learning_rate * gradient\n",
    "\n",
    "            current_loss = np.mean((np.dot(X, w) - y)**2)\n",
    "            loss_array.append(current_loss)\n",
    "            #print(f\"Epoch {_ + 1}/{self.epochs}, Loss: {current_loss}\")\n",
    "\n",
    "        return w, loss_array\n",
    "        \n",
    "    def fit(self, X: pd.DataFrame, y: pd.DataFrame):\n",
    "        X_new = np.c_[np.ones(X.shape[0]), X]\n",
    "        self.feature_names_in = np.append('bias', X.columns)\n",
    "        if self.weight_calc == 'matrix':\n",
    "            self.coef_ = self._matrix_weight_calc(X_new, y)\n",
    "        if self.weight_calc == 'gd':\n",
    "            self.coef_, self.loss_array = self._gd_weight_calc(X_new, y)\n",
    "        if self.weight_calc == 'sgd':\n",
    "            self.coef_, self.loss_array = self._sgd_weight_calc(X_new, y)\n",
    "\n",
    "    def predict(self, X: np.array, ss=True):\n",
    "        X_new = np.c_[np.ones(X.shape[0]), X]\n",
    "        predictions = X_new @ self.coef_\n",
    "        return predictions\n",
    "    \n",
    "    def score(self, X: np.array, y: np.array):\n",
    "        y_predicted = self.predict(X)\n",
    "        r2 = r2_score(y, y_predicted)\n",
    "        print(pd.DataFrame(self.coef_, index=self.feature_names_in))\n",
    "        print(f'R2 score: {r2}')\n",
    "        return r2"
   ]
  },
  {
   "cell_type": "code",
   "execution_count": 87,
   "metadata": {},
   "outputs": [
    {
     "data": {
      "text/html": [
       "<div>\n",
       "<style scoped>\n",
       "    .dataframe tbody tr th:only-of-type {\n",
       "        vertical-align: middle;\n",
       "    }\n",
       "\n",
       "    .dataframe tbody tr th {\n",
       "        vertical-align: top;\n",
       "    }\n",
       "\n",
       "    .dataframe thead th {\n",
       "        text-align: right;\n",
       "    }\n",
       "</style>\n",
       "<table border=\"1\" class=\"dataframe\">\n",
       "  <thead>\n",
       "    <tr style=\"text-align: right;\">\n",
       "      <th></th>\n",
       "      <th>engine_power</th>\n",
       "      <th>age_in_days</th>\n",
       "      <th>km</th>\n",
       "      <th>previous_owners</th>\n",
       "    </tr>\n",
       "  </thead>\n",
       "  <tbody>\n",
       "    <tr>\n",
       "      <th>10</th>\n",
       "      <td>69</td>\n",
       "      <td>3500</td>\n",
       "      <td>121000</td>\n",
       "      <td>2</td>\n",
       "    </tr>\n",
       "    <tr>\n",
       "      <th>11</th>\n",
       "      <td>69</td>\n",
       "      <td>3197</td>\n",
       "      <td>51083</td>\n",
       "      <td>2</td>\n",
       "    </tr>\n",
       "    <tr>\n",
       "      <th>12</th>\n",
       "      <td>69</td>\n",
       "      <td>2251</td>\n",
       "      <td>87000</td>\n",
       "      <td>2</td>\n",
       "    </tr>\n",
       "    <tr>\n",
       "      <th>13</th>\n",
       "      <td>69</td>\n",
       "      <td>3774</td>\n",
       "      <td>79000</td>\n",
       "      <td>1</td>\n",
       "    </tr>\n",
       "    <tr>\n",
       "      <th>14</th>\n",
       "      <td>69</td>\n",
       "      <td>4018</td>\n",
       "      <td>101156</td>\n",
       "      <td>1</td>\n",
       "    </tr>\n",
       "    <tr>\n",
       "      <th>15</th>\n",
       "      <td>69</td>\n",
       "      <td>2922</td>\n",
       "      <td>31350</td>\n",
       "      <td>1</td>\n",
       "    </tr>\n",
       "    <tr>\n",
       "      <th>16</th>\n",
       "      <td>69</td>\n",
       "      <td>2588</td>\n",
       "      <td>71553</td>\n",
       "      <td>1</td>\n",
       "    </tr>\n",
       "    <tr>\n",
       "      <th>17</th>\n",
       "      <td>69</td>\n",
       "      <td>2647</td>\n",
       "      <td>50000</td>\n",
       "      <td>2</td>\n",
       "    </tr>\n",
       "    <tr>\n",
       "      <th>18</th>\n",
       "      <td>99</td>\n",
       "      <td>3592</td>\n",
       "      <td>74903</td>\n",
       "      <td>1</td>\n",
       "    </tr>\n",
       "    <tr>\n",
       "      <th>19</th>\n",
       "      <td>69</td>\n",
       "      <td>2922</td>\n",
       "      <td>87000</td>\n",
       "      <td>2</td>\n",
       "    </tr>\n",
       "    <tr>\n",
       "      <th>20</th>\n",
       "      <td>69</td>\n",
       "      <td>2070</td>\n",
       "      <td>114000</td>\n",
       "      <td>1</td>\n",
       "    </tr>\n",
       "    <tr>\n",
       "      <th>21</th>\n",
       "      <td>69</td>\n",
       "      <td>1096</td>\n",
       "      <td>61197</td>\n",
       "      <td>2</td>\n",
       "    </tr>\n",
       "    <tr>\n",
       "      <th>22</th>\n",
       "      <td>69</td>\n",
       "      <td>1096</td>\n",
       "      <td>62214</td>\n",
       "      <td>2</td>\n",
       "    </tr>\n",
       "    <tr>\n",
       "      <th>23</th>\n",
       "      <td>69</td>\n",
       "      <td>2527</td>\n",
       "      <td>48000</td>\n",
       "      <td>1</td>\n",
       "    </tr>\n",
       "    <tr>\n",
       "      <th>24</th>\n",
       "      <td>69</td>\n",
       "      <td>2251</td>\n",
       "      <td>73453</td>\n",
       "      <td>4</td>\n",
       "    </tr>\n",
       "    <tr>\n",
       "      <th>25</th>\n",
       "      <td>69</td>\n",
       "      <td>1066</td>\n",
       "      <td>59961</td>\n",
       "      <td>2</td>\n",
       "    </tr>\n",
       "    <tr>\n",
       "      <th>26</th>\n",
       "      <td>69</td>\n",
       "      <td>1066</td>\n",
       "      <td>59961</td>\n",
       "      <td>2</td>\n",
       "    </tr>\n",
       "    <tr>\n",
       "      <th>27</th>\n",
       "      <td>69</td>\n",
       "      <td>2739</td>\n",
       "      <td>77149</td>\n",
       "      <td>3</td>\n",
       "    </tr>\n",
       "    <tr>\n",
       "      <th>28</th>\n",
       "      <td>69</td>\n",
       "      <td>1096</td>\n",
       "      <td>57000</td>\n",
       "      <td>2</td>\n",
       "    </tr>\n",
       "    <tr>\n",
       "      <th>29</th>\n",
       "      <td>69</td>\n",
       "      <td>762</td>\n",
       "      <td>16000</td>\n",
       "      <td>1</td>\n",
       "    </tr>\n",
       "  </tbody>\n",
       "</table>\n",
       "</div>"
      ],
      "text/plain": [
       "    engine_power  age_in_days      km  previous_owners\n",
       "10            69         3500  121000                2\n",
       "11            69         3197   51083                2\n",
       "12            69         2251   87000                2\n",
       "13            69         3774   79000                1\n",
       "14            69         4018  101156                1\n",
       "15            69         2922   31350                1\n",
       "16            69         2588   71553                1\n",
       "17            69         2647   50000                2\n",
       "18            99         3592   74903                1\n",
       "19            69         2922   87000                2\n",
       "20            69         2070  114000                1\n",
       "21            69         1096   61197                2\n",
       "22            69         1096   62214                2\n",
       "23            69         2527   48000                1\n",
       "24            69         2251   73453                4\n",
       "25            69         1066   59961                2\n",
       "26            69         1066   59961                2\n",
       "27            69         2739   77149                3\n",
       "28            69         1096   57000                2\n",
       "29            69          762   16000                1"
      ]
     },
     "execution_count": 87,
     "metadata": {},
     "output_type": "execute_result"
    }
   ],
   "source": [
    "X[10:10+20]"
   ]
  },
  {
   "cell_type": "code",
   "execution_count": 61,
   "metadata": {},
   "outputs": [
    {
     "data": {
      "text/plain": [
       "array([1.99400774e+05, 1.47648234e+07, 7.71521025e+08, 2.50665171e+10,\n",
       "       3.05423174e+05])"
      ]
     },
     "execution_count": 61,
     "metadata": {},
     "output_type": "execute_result"
    }
   ],
   "source": [
    "lr_2.mean_squared_error_gradient(w, X_new, y)"
   ]
  },
  {
   "cell_type": "code",
   "execution_count": 59,
   "metadata": {},
   "outputs": [
    {
     "data": {
      "text/plain": [
       "12427086628.265789"
      ]
     },
     "execution_count": 59,
     "metadata": {},
     "output_type": "execute_result"
    }
   ],
   "source": [
    "X_new = np.c_[np.ones(X.shape[0]), X]\n",
    "w_init = np.ones(X_new.shape[1])\n",
    "w = w_init\n",
    "np.mean((np.dot(X_new, w) - y)**2)"
   ]
  },
  {
   "cell_type": "code",
   "execution_count": 52,
   "metadata": {},
   "outputs": [
    {
     "data": {
      "text/plain": [
       "0       61324.0\n",
       "1      162778.0\n",
       "2      173541.0\n",
       "3      135359.0\n",
       "4      128273.0\n",
       "         ...   \n",
       "375     60521.0\n",
       "376    138987.0\n",
       "377    116884.0\n",
       "378    133782.0\n",
       "379    100666.0\n",
       "Length: 380, dtype: float64"
      ]
     },
     "execution_count": 52,
     "metadata": {},
     "output_type": "execute_result"
    }
   ],
   "source": [
    "X @ np.ones(X.shape[1])"
   ]
  },
  {
   "cell_type": "code",
   "execution_count": 39,
   "metadata": {},
   "outputs": [
    {
     "data": {
      "text/plain": [
       "0    124.167699\n",
       "1     -1.085423\n",
       "2     -0.009235\n",
       "3    784.588631\n",
       "dtype: float64"
      ]
     },
     "execution_count": 39,
     "metadata": {},
     "output_type": "execute_result"
    }
   ],
   "source": [
    "np.linalg.inv(X.T @ X) @ X.T @ y"
   ]
  },
  {
   "cell_type": "code",
   "execution_count": 162,
   "metadata": {},
   "outputs": [
    {
     "name": "stdout",
     "output_type": "stream",
     "text": [
      "                           0\n",
      "bias             5864.786184\n",
      "engine_power       58.166370\n",
      "age_in_days     -1628.088457\n",
      "km               -430.979804\n",
      "previous_owners    21.617023\n"
     ]
    }
   ],
   "source": [
    "print(pd.DataFrame(lr_1.coef_, index=lr_1.feature_names_in))"
   ]
  },
  {
   "cell_type": "code",
   "execution_count": null,
   "metadata": {},
   "outputs": [],
   "source": [
    "w_init = np.array([1.0, 1.0, 1.0])\n",
    "\n",
    "X_new = np.c_[np.ones(n), X]"
   ]
  },
  {
   "cell_type": "code",
   "execution_count": null,
   "metadata": {},
   "outputs": [],
   "source": [
    "def log_loss(w, X, y):\n",
    "  return np.sum(np.log(1+np.exp(-y*np.dot(X,w))))"
   ]
  },
  {
   "cell_type": "code",
   "execution_count": null,
   "metadata": {},
   "outputs": [],
   "source": [
    "def log_loss_grad(w, X, y):\n",
    "  gradient = - np.dot(y*X.T, 1/(1+np.exp(y*np.dot(X,w))))\n",
    "  return gradient/np.linalg.norm(gradient)"
   ]
  },
  {
   "cell_type": "code",
   "execution_count": null,
   "metadata": {},
   "outputs": [],
   "source": [
    "def gradient_descent(X, y, w_init, n_steps, eta):\n",
    "\n",
    "  w = w_init\n",
    "  loss_array = []\n",
    "\n",
    "  for step in range(n_steps):\n",
    "    gradient = log_loss_grad(w, X, y)\n",
    "    w = w - eta * gradient\n",
    "    current_loss = log_loss(w, X, y)\n",
    "    loss_array.append(current_loss)\n",
    "    print(f\"Iteration {step + 1}/{n_steps}, Loss: {current_loss}\")\n",
    "\n",
    "  return w, loss_array"
   ]
  },
  {
   "cell_type": "code",
   "execution_count": 2,
   "metadata": {},
   "outputs": [],
   "source": [
    "df = pd.read_csv('Used_fiat_500_in_Italy_dataset.csv')"
   ]
  },
  {
   "cell_type": "code",
   "execution_count": 5,
   "metadata": {},
   "outputs": [],
   "source": [
    "from sklearn.model_selection import train_test_split\n",
    "\n",
    "dfnum = df.select_dtypes(include=np.number)\n",
    "dfnum.drop(['lat','lon'], axis=1, inplace=True)\n",
    "dfnum\n",
    "X = dfnum.drop('price', axis=1)\n",
    "y = dfnum['price']\n",
    "\n",
    "X_train, X_test, y_train, y_test = train_test_split(X, y, test_size=0.2)"
   ]
  },
  {
   "cell_type": "code",
   "execution_count": 167,
   "metadata": {},
   "outputs": [
    {
     "name": "stdout",
     "output_type": "stream",
     "text": [
      "                           0\n",
      "bias             5864.786184\n",
      "engine_power       58.166370\n",
      "age_in_days     -1628.088457\n",
      "km               -430.979804\n",
      "previous_owners    21.617023\n",
      "R2 score: 0.7594567271465461\n"
     ]
    },
    {
     "data": {
      "text/plain": [
       "0.7594567271465461"
      ]
     },
     "execution_count": 167,
     "metadata": {},
     "output_type": "execute_result"
    }
   ],
   "source": [
    "lr_1 = MyLinearRegression()\n",
    "\n",
    "lr_1.fit(X_train, y_train)\n",
    "lr_1.score(X_test, y_test)"
   ]
  },
  {
   "cell_type": "code",
   "execution_count": 179,
   "metadata": {},
   "outputs": [
    {
     "name": "stdout",
     "output_type": "stream",
     "text": [
      "                           0\n",
      "bias             5864.786184\n",
      "engine_power       58.166047\n",
      "age_in_days     -1628.086437\n",
      "km               -430.980967\n",
      "previous_owners    21.617093\n",
      "R2 score: 0.759456740725748\n"
     ]
    },
    {
     "data": {
      "text/plain": [
       "0.759456740725748"
      ]
     },
     "execution_count": 179,
     "metadata": {},
     "output_type": "execute_result"
    }
   ],
   "source": [
    "lr_12 = MyLinearRegression(regularization='l2', lambda_2=0.0001)\n",
    "\n",
    "lr_12.fit(X_train, y_train)\n",
    "lr_12.score(X_test, y_test)"
   ]
  },
  {
   "cell_type": "code",
   "execution_count": 48,
   "metadata": {},
   "outputs": [
    {
     "data": {
      "text/plain": [
       "array([1., 1., 1., 1.])"
      ]
     },
     "execution_count": 48,
     "metadata": {},
     "output_type": "execute_result"
    }
   ],
   "source": [
    "np.ones(X.shape[1])"
   ]
  },
  {
   "cell_type": "code",
   "execution_count": 138,
   "metadata": {},
   "outputs": [],
   "source": [
    "from sklearn.preprocessing import StandardScaler\n",
    "\n",
    "sc = StandardScaler()\n",
    "\n",
    "X_train_scaled = sc.fit_transform(X_train)\n",
    "X_test_scaled = sc.transform(X_test)\n",
    "\n",
    "X_train = pd.DataFrame(X_train_scaled, columns=X_train.columns)\n",
    "X_test = pd.DataFrame(X_test_scaled, columns=X_test.columns)"
   ]
  },
  {
   "cell_type": "code",
   "execution_count": 168,
   "metadata": {},
   "outputs": [
    {
     "name": "stdout",
     "output_type": "stream",
     "text": [
      "w_init: [1. 1. 1. 1. 1.]\n",
      "                           0\n",
      "bias             5864.786174\n",
      "engine_power       57.817892\n",
      "age_in_days     -1623.953400\n",
      "km               -435.024986\n",
      "previous_owners    21.978609\n",
      "R2 score: 0.759562622769302\n"
     ]
    },
    {
     "data": {
      "text/plain": [
       "0.759562622769302"
      ]
     },
     "execution_count": 168,
     "metadata": {},
     "output_type": "execute_result"
    }
   ],
   "source": [
    "lr_2 = MyLinearRegression(weight_calc='gd')\n",
    "\n",
    "lr_2.fit(X_train, y_train)\n",
    "lr_2.score(X_test, y_test)"
   ]
  },
  {
   "cell_type": "code",
   "execution_count": 140,
   "metadata": {},
   "outputs": [
    {
     "data": {
      "image/png": "[encoded data removed]",
      "text/plain": [
       "<Figure size 640x480 with 1 Axes>"
      ]
     },
     "metadata": {},
     "output_type": "display_data"
    }
   ],
   "source": [
    "import matplotlib.pyplot as plt\n",
    "\n",
    "plt.plot(lr_2.loss_array)\n",
    "plt.title('gd loss')\n",
    "plt.show()"
   ]
  },
  {
   "cell_type": "code",
   "execution_count": 170,
   "metadata": {},
   "outputs": [
    {
     "name": "stdout",
     "output_type": "stream",
     "text": [
      "                           0\n",
      "bias             5858.448469\n",
      "engine_power       73.294431\n",
      "age_in_days     -1678.223983\n",
      "km               -407.825874\n",
      "previous_owners    18.176084\n",
      "R2 score: 0.7588418732350536\n"
     ]
    },
    {
     "data": {
      "text/plain": [
       "0.7588418732350536"
      ]
     },
     "execution_count": 170,
     "metadata": {},
     "output_type": "execute_result"
    }
   ],
   "source": [
    "lr_3 = MyLinearRegression(weight_calc='sgd')\n",
    "\n",
    "lr_3.fit(X_train, y_train)\n",
    "lr_3.score(X_test, y_test)"
   ]
  },
  {
   "cell_type": "code",
   "execution_count": 127,
   "metadata": {},
   "outputs": [
    {
     "data": {
      "image/png": "[encoded data removed]",
      "text/plain": [
       "<Figure size 640x480 with 1 Axes>"
      ]
     },
     "metadata": {},
     "output_type": "display_data"
    }
   ],
   "source": [
    "import matplotlib.pyplot as plt\n",
    "\n",
    "plt.plot(lr_3.loss_array)\n",
    "plt.title('sgd loss')\n",
    "plt.show()"
   ]
  },
  {
   "cell_type": "code",
   "execution_count": 171,
   "metadata": {},
   "outputs": [
    {
     "name": "stdout",
     "output_type": "stream",
     "text": [
      "                           0\n",
      "bias             5858.449399\n",
      "engine_power       73.224582\n",
      "age_in_days     -1678.187470\n",
      "km               -407.787574\n",
      "previous_owners    18.124875\n",
      "R2 score: 0.7588427876585562\n"
     ]
    },
    {
     "data": {
      "text/plain": [
       "0.7588427876585562"
      ]
     },
     "execution_count": 171,
     "metadata": {},
     "output_type": "execute_result"
    }
   ],
   "source": [
    "lr_4 = MyLinearRegression(weight_calc='sgd', regularization='l1', lambda_1=0.1)\n",
    "\n",
    "lr_4.fit(X_train, y_train)\n",
    "lr_4.score(X_test, y_test)"
   ]
  },
  {
   "cell_type": "code",
   "execution_count": 145,
   "metadata": {},
   "outputs": [
    {
     "data": {
      "text/plain": [
       "0.7594540891114422"
      ]
     },
     "execution_count": 145,
     "metadata": {},
     "output_type": "execute_result"
    }
   ],
   "source": [
    "from sklearn.linear_model import Lasso\n",
    "from sklearn.metrics import r2_score\n",
    "\n",
    "lasso_fake = Lasso(alpha=0.1).fit(X_train, y_train)\n",
    "y_pred = lasso_fake.predict(X_test)\n",
    "r2_score(y_test, y_pred)"
   ]
  },
  {
   "cell_type": "code",
   "execution_count": 146,
   "metadata": {},
   "outputs": [
    {
     "data": {
      "text/plain": [
       "array([   58.0701342 , -1628.18868756,  -430.77884785,    21.50532953])"
      ]
     },
     "execution_count": 146,
     "metadata": {},
     "output_type": "execute_result"
    }
   ],
   "source": [
    "lasso_fake.coef_"
   ]
  },
  {
   "cell_type": "code",
   "execution_count": 147,
   "metadata": {},
   "outputs": [
    {
     "name": "stdout",
     "output_type": "stream",
     "text": [
      "R2 score: 0.7592494494185733\n"
     ]
    },
    {
     "data": {
      "text/plain": [
       "0.7592494494185733"
      ]
     },
     "execution_count": 147,
     "metadata": {},
     "output_type": "execute_result"
    }
   ],
   "source": [
    "lr_5 = MyLinearRegression(weight_calc='sgd', regularization='l2', lambda_2=0.01)\n",
    "\n",
    "lr_5.fit(X_train, y_train)\n",
    "lr_5.score(X_test, y_test)"
   ]
  },
  {
   "cell_type": "code",
   "execution_count": 148,
   "metadata": {},
   "outputs": [
    {
     "data": {
      "text/plain": [
       "array([ 5857.99475662,    68.42818611, -1647.32075262,  -426.08750511,\n",
       "          19.26195086])"
      ]
     },
     "execution_count": 148,
     "metadata": {},
     "output_type": "execute_result"
    }
   ],
   "source": [
    "lr_5.coef_"
   ]
  },
  {
   "cell_type": "code",
   "execution_count": 149,
   "metadata": {},
   "outputs": [
    {
     "data": {
      "text/plain": [
       "0.7594574050449694"
      ]
     },
     "execution_count": 149,
     "metadata": {},
     "output_type": "execute_result"
    }
   ],
   "source": [
    "from sklearn.linear_model import Ridge\n",
    "from sklearn.metrics import r2_score\n",
    "\n",
    "ridge_fake = Ridge(alpha=0.01).fit(X_train, y_train)\n",
    "y_pred = ridge_fake.predict(X_test)\n",
    "r2_score(y_test, y_pred)"
   ]
  },
  {
   "cell_type": "code",
   "execution_count": 150,
   "metadata": {},
   "outputs": [
    {
     "data": {
      "text/plain": [
       "array([   58.15020858, -1627.98747095,  -431.03795108,    21.62048099])"
      ]
     },
     "execution_count": 150,
     "metadata": {},
     "output_type": "execute_result"
    }
   ],
   "source": [
    "ridge_fake.coef_"
   ]
  },
  {
   "cell_type": "code",
   "execution_count": 152,
   "metadata": {},
   "outputs": [
    {
     "name": "stdout",
     "output_type": "stream",
     "text": [
      "R2 score: 0.7592495042348671\n"
     ]
    },
    {
     "data": {
      "text/plain": [
       "0.7592495042348671"
      ]
     },
     "execution_count": 152,
     "metadata": {},
     "output_type": "execute_result"
    }
   ],
   "source": [
    "lr_6 = MyLinearRegression(weight_calc='sgd', regularization='l1l2', lambda_1=0.01, lambda_2=0.01)\n",
    "\n",
    "lr_6.fit(X_train, y_train)\n",
    "lr_6.score(X_test, y_test)"
   ]
  },
  {
   "cell_type": "code",
   "execution_count": 154,
   "metadata": {},
   "outputs": [
    {
     "data": {
      "text/plain": [
       "0.7594562607954051"
      ]
     },
     "execution_count": 154,
     "metadata": {},
     "output_type": "execute_result"
    }
   ],
   "source": [
    "from sklearn.linear_model import ElasticNet\n",
    "\n",
    "elastic = ElasticNet(alpha=0.01, l1_ratio=1.0).fit(X_train, y_train)\n",
    "y_pred = elastic.predict(X_test)\n",
    "r2_score(y_test, y_pred)"
   ]
  },
  {
   "cell_type": "code",
   "execution_count": 24,
   "metadata": {},
   "outputs": [
    {
     "data": {
      "text/plain": [
       "array([ 1.01050994e+04,  5.71347854e+00, -1.14397982e+00, -9.11044908e-03,\n",
       "        3.92958362e+01])"
      ]
     },
     "execution_count": 24,
     "metadata": {},
     "output_type": "execute_result"
    }
   ],
   "source": [
    "lr_1.coef_"
   ]
  },
  {
   "cell_type": "code",
   "execution_count": 25,
   "metadata": {},
   "outputs": [
    {
     "data": {
      "text/plain": [
       "array(['bias', 'engine_power', 'age_in_days', 'km', 'previous_owners'],\n",
       "      dtype=object)"
      ]
     },
     "execution_count": 25,
     "metadata": {},
     "output_type": "execute_result"
    }
   ],
   "source": [
    "lr_1.feature_names_in"
   ]
  },
  {
   "cell_type": "code",
   "execution_count": 26,
   "metadata": {},
   "outputs": [],
   "source": [
    "X_new = np.c_[np.ones(X.shape[0]), X]"
   ]
  },
  {
   "cell_type": "code",
   "execution_count": 27,
   "metadata": {},
   "outputs": [
    {
     "data": {
      "text/plain": [
       "array([[1.00000e+00, 6.90000e+01, 4.47400e+03, 5.67790e+04, 2.00000e+00],\n",
       "       [1.00000e+00, 6.90000e+01, 2.70800e+03, 1.60000e+05, 1.00000e+00],\n",
       "       [1.00000e+00, 6.90000e+01, 3.47000e+03, 1.70000e+05, 2.00000e+00],\n",
       "       ...,\n",
       "       [1.00000e+00, 6.90000e+01, 3.47000e+03, 1.13344e+05, 1.00000e+00],\n",
       "       [1.00000e+00, 6.90000e+01, 3.71200e+03, 1.30000e+05, 1.00000e+00],\n",
       "       [1.00000e+00, 9.90000e+01, 4.56600e+03, 9.60000e+04, 1.00000e+00]])"
      ]
     },
     "execution_count": 27,
     "metadata": {},
     "output_type": "execute_result"
    }
   ],
   "source": [
    "X_new"
   ]
  },
  {
   "cell_type": "code",
   "execution_count": 28,
   "metadata": {},
   "outputs": [
    {
     "data": {
      "text/plain": [
       "array([ 4425.05136895,  5501.51990093,  4496.68167534,  4501.09054717,\n",
       "        9614.18028237,  5471.62734656,  4039.75048943,  4528.42189441,\n",
       "        4994.18879237,  4506.57760614,  5376.71685777,  5130.84552857,\n",
       "        4202.51336727,  4403.83907187,  9826.18850768,  5199.12614308,\n",
       "        7131.99579688,  4117.87319121,  4823.21266157, 10044.341679  ,\n",
       "       10152.0582216 ,  4962.95336861,  6290.50979353,  9917.24086796,\n",
       "        4696.46912919,  8757.32169406,  4744.31944346,  4345.49015006,\n",
       "        9505.59634434,  5277.26362822,  4117.87319121,  8812.16693045,\n",
       "        4298.92230915,  4704.62125052,  9314.05916688,  3917.44331146,\n",
       "        4578.68134043,  4696.46912919,  4816.80067937,  5608.05488741,\n",
       "        5338.38559465,  9618.16178225,  8709.25510045,  4342.02537715,\n",
       "        9164.66745387,  5189.53270655,  6084.26231003,  4346.21291281,\n",
       "        6008.21019744,  6815.58176227,  4800.88421973,  4609.19073053,\n",
       "        5005.36197895,  4167.96721021,  4390.97875804,  4423.33533361,\n",
       "        5483.28827169,  4852.31881578,  5031.07850457,  4789.16591941,\n",
       "        4498.96814546,  9924.88750917,  4931.80468036,  4303.4510699 ,\n",
       "        4356.9521962 ,  4467.48493921,  9469.336757  ,  4474.73762182,\n",
       "        9632.34641854,  5009.74767236,  7880.0045795 ,  2960.58349057,\n",
       "        4571.01057594,  4426.44213247,  5341.85036756, 10041.43544574])"
      ]
     },
     "execution_count": 28,
     "metadata": {},
     "output_type": "execute_result"
    }
   ],
   "source": [
    "lr_1.predict(X_test)"
   ]
  }
 ],
 "metadata": {
  "kernelspec": {
   "display_name": "base",
   "language": "python",
   "name": "python3"
  },
  "language_info": {
   "codemirror_mode": {
    "name": "ipython",
    "version": 3
   },
   "file_extension": ".py",
   "mimetype": "text/x-python",
   "name": "python",
   "nbconvert_exporter": "python",
   "pygments_lexer": "ipython3",
   "version": "3.11.4"
  }
 },
 "nbformat": 4,
 "nbformat_minor": 2
}
