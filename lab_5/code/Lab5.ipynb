{
 "cells": [
  {
   "cell_type": "code",
   "execution_count": 139,
   "metadata": {},
   "outputs": [],
   "source": [
    "import numpy as np\n",
    "import pandas as pd\n",
    "from sklearn.metrics import r2_score\n",
    "\n",
    "class MyBinaryLogisticRegression:\n",
    "    def __init__(self, weight_calc='gd', regularization=None, epochs=1000, eta=0.01, lambda_1=0.01, lambda_2=0.01, batch_size=20):\n",
    "        if regularization not in [None, 'l1', 'l2', 'l1l2']:\n",
    "            raise TypeError(f\"Параметр regularization не может принимать значение '{regularization}'\")\n",
    "        if weight_calc not in ['gd', 'sgd']:\n",
    "            raise TypeError(f\"Параметр weight_calc не может принимать значение '{weight_calc}'\")\n",
    "        if regularization in ['l1', 'l1l2'] and lambda_1 is None:\n",
    "            raise TypeError(f\"Значение коэффициента регулризации l1 не задано\")\n",
    "        if regularization in ['l2', 'l1l2'] and lambda_2 is None:\n",
    "            raise TypeError(f\"Значение коэффициента регулризации l2 не задано\")\n",
    "        \n",
    "        self.coefs_ = None\n",
    "        self.feature_names_in_ = None\n",
    "        self.loss_array = None\n",
    "        self.weight_calc = weight_calc\n",
    "        self.epochs = epochs\n",
    "        self.eta = eta\n",
    "        self.regularization = regularization\n",
    "        self.lambda_1 = lambda_1\n",
    "        self.lambda_2 = lambda_2\n",
    "        self.batch_size = batch_size\n",
    "\n",
    "    def regularize(self, gradients, w):\n",
    "        if self.regularization == 'l1':\n",
    "            gradients[1:] += self.lambda_1 * np.sign(w[1:])\n",
    "        elif self.regularization == 'l2':\n",
    "            gradients[1:] += 2 * self.lambda_2 * w[1:]\n",
    "        elif self.regularization == 'l1l2':\n",
    "            gradients[1:] += self.lambda_1 * np.sign(w[1:]) + 2 * self.lambda_2 * w[1:]\n",
    "        return gradients\n",
    "\n",
    "    def log_loss(self, w, X, y):\n",
    "        return np.sum(np.log(1+np.exp(-y*np.dot(X,w))))\n",
    "    \n",
    "    def log_loss_grad(self, w, X, y):\n",
    "        gradient = - np.dot(y*X.T, 1/(1+np.exp(y*np.dot(X,w)))) #X @ w - линейная комбинация признаков, градиент - вектор частных производных\n",
    "        return gradient/np.linalg.norm(gradient) # нормирование для контролирования уровня шага, чтобы не допустить слишком большие обновления весов \n",
    "    \n",
    "    def gradient_descent(self, X, y, w_init, n_steps, eta):\n",
    "\n",
    "        w = w_init\n",
    "        loss_array = []\n",
    "\n",
    "        for step in range(n_steps):\n",
    "            gradient = self.log_loss_grad(w, X, y)\n",
    "            \n",
    "            if self.regularization is not None:\n",
    "                gradient = self.regularize(gradient, w)\n",
    "\n",
    "            w = w - eta * gradient\n",
    "            current_loss = self.log_loss(w, X, y)\n",
    "            loss_array.append(current_loss)\n",
    "            #print(f\"Iteration {step + 1}/{n_steps}, Loss: {current_loss}\")\n",
    "\n",
    "        return w, loss_array\n",
    "\n",
    "    def stochastic_gradient_descent(self, X, y, w_init, n_steps, eta):\n",
    "\n",
    "        w = w_init\n",
    "        loss_array = []\n",
    "\n",
    "        for _ in range(n_steps):\n",
    "            for i in range(0, X.shape[0], self.batch_size):\n",
    "                X_batch = X[i:i + self.batch_size]\n",
    "                y_batch = y[i:i + self.batch_size]\n",
    "                \n",
    "                gradient = self.log_loss_grad(w, X_batch, y_batch)\n",
    "            \n",
    "                if self.regularization is not None:\n",
    "                    gradient = self.regularize(gradient, w) # регуляризация\n",
    "                \n",
    "                w = w - self.eta * gradient\n",
    "\n",
    "            current_loss = np.mean((np.dot(X, w) - y)**2)\n",
    "            loss_array.append(current_loss)\n",
    "            #print(f\"Epoch {_ + 1}/{self.epochs}, Loss: {current_loss}\")\n",
    "        \n",
    "        return w, loss_array\n",
    "\n",
    "    def fit(self, X: pd.DataFrame, y: pd.DataFrame):\n",
    "        X_new = np.c_[np.ones(X.shape[0]), X]\n",
    "        self.feature_names_in = np.append('bias', X.columns)\n",
    "        w_init = np.ones(X_new.shape[1])\n",
    "        \n",
    "        if self.weight_calc == 'gd':\n",
    "            self.coefs_, self.loss_array = self.gradient_descent(X_new, y, w_init, self.epochs, self.eta)\n",
    "        if self.weight_calc == 'sgd':\n",
    "            self.coefs_, self.loss_array = self.stochastic_gradient_descent(X_new, y, w_init, self.epochs, self.eta)\n",
    "\n",
    "    def predict(self, X: np.array):\n",
    "        X_new = np.c_[np.ones(X.shape[0]), X]\n",
    "        predictions = X_new @ self.coefs_\n",
    "\n",
    "        # sigmoid\n",
    "\n",
    "        sigmoid_pred = 1 / np.exp(-predictions)\n",
    "        class_pred = [0 if y <= 0.5 else 1 for y in sigmoid_pred]\n",
    "\n",
    "        return class_pred\n",
    "\n",
    "    def score(self, X: np.array, y: np.array):\n",
    "        y_pred = self.predict(X)\n",
    "        r2 = r2_score(y, y_pred)\n",
    "        print(f'R2 score: {r2}')\n",
    "        return r2"
   ]
  },
  {
   "cell_type": "code",
   "execution_count": null,
   "metadata": {},
   "outputs": [],
   "source": [
    "X_new = np.c_[np.ones(n), X]\n",
    "\n",
    "def gradient_descent(X, y, w_init, n_steps, eta):\n",
    "\n",
    "  w = w_init\n",
    "  loss_array = []\n",
    "\n",
    "  for step in range(n_steps):\n",
    "    gradient = log_loss_grad(w, X, y)\n",
    "    w = w - eta * gradient\n",
    "    current_loss = log_loss(w, X, y)\n",
    "    loss_array.append(current_loss)\n",
    "    print(f\"Iteration {step + 1}/{n_steps}, Loss: {current_loss}\")\n",
    "\n",
    "  return w, loss_array\n",
    "\n",
    "def log_loss_grad(w, X, y):\n",
    "  gradient = - np.dot(y*X.T, 1/(1+np.exp(y*np.dot(X,w))))\n",
    "  return gradient/np.linalg.norm(gradient)\n",
    "\n",
    "def log_loss(w, X, y):\n",
    "  return np.sum(np.log(1+np.exp(-y*np.dot(X,w))))"
   ]
  },
  {
   "cell_type": "code",
   "execution_count": 43,
   "metadata": {},
   "outputs": [
    {
     "data": {
      "text/html": [
       "<div>\n",
       "<style scoped>\n",
       "    .dataframe tbody tr th:only-of-type {\n",
       "        vertical-align: middle;\n",
       "    }\n",
       "\n",
       "    .dataframe tbody tr th {\n",
       "        vertical-align: top;\n",
       "    }\n",
       "\n",
       "    .dataframe thead th {\n",
       "        text-align: right;\n",
       "    }\n",
       "</style>\n",
       "<table border=\"1\" class=\"dataframe\">\n",
       "  <thead>\n",
       "    <tr style=\"text-align: right;\">\n",
       "      <th></th>\n",
       "      <th>species</th>\n",
       "      <th>island</th>\n",
       "      <th>bill_length_mm</th>\n",
       "      <th>bill_depth_mm</th>\n",
       "      <th>flipper_length_mm</th>\n",
       "      <th>body_mass_g</th>\n",
       "      <th>year</th>\n",
       "    </tr>\n",
       "  </thead>\n",
       "  <tbody>\n",
       "    <tr>\n",
       "      <th>0</th>\n",
       "      <td>Adelie</td>\n",
       "      <td>Torgersen</td>\n",
       "      <td>39.1</td>\n",
       "      <td>18.7</td>\n",
       "      <td>181.0</td>\n",
       "      <td>3750.0</td>\n",
       "      <td>2007</td>\n",
       "    </tr>\n",
       "    <tr>\n",
       "      <th>1</th>\n",
       "      <td>Adelie</td>\n",
       "      <td>Torgersen</td>\n",
       "      <td>39.5</td>\n",
       "      <td>17.4</td>\n",
       "      <td>186.0</td>\n",
       "      <td>3800.0</td>\n",
       "      <td>2007</td>\n",
       "    </tr>\n",
       "    <tr>\n",
       "      <th>2</th>\n",
       "      <td>Adelie</td>\n",
       "      <td>Torgersen</td>\n",
       "      <td>40.3</td>\n",
       "      <td>18.0</td>\n",
       "      <td>195.0</td>\n",
       "      <td>3250.0</td>\n",
       "      <td>2007</td>\n",
       "    </tr>\n",
       "    <tr>\n",
       "      <th>3</th>\n",
       "      <td>Adelie</td>\n",
       "      <td>Torgersen</td>\n",
       "      <td>36.7</td>\n",
       "      <td>19.3</td>\n",
       "      <td>193.0</td>\n",
       "      <td>3450.0</td>\n",
       "      <td>2007</td>\n",
       "    </tr>\n",
       "    <tr>\n",
       "      <th>4</th>\n",
       "      <td>Adelie</td>\n",
       "      <td>Torgersen</td>\n",
       "      <td>39.3</td>\n",
       "      <td>20.6</td>\n",
       "      <td>190.0</td>\n",
       "      <td>3650.0</td>\n",
       "      <td>2007</td>\n",
       "    </tr>\n",
       "    <tr>\n",
       "      <th>...</th>\n",
       "      <td>...</td>\n",
       "      <td>...</td>\n",
       "      <td>...</td>\n",
       "      <td>...</td>\n",
       "      <td>...</td>\n",
       "      <td>...</td>\n",
       "      <td>...</td>\n",
       "    </tr>\n",
       "    <tr>\n",
       "      <th>269</th>\n",
       "      <td>Gentoo</td>\n",
       "      <td>Biscoe</td>\n",
       "      <td>47.2</td>\n",
       "      <td>13.7</td>\n",
       "      <td>214.0</td>\n",
       "      <td>4925.0</td>\n",
       "      <td>2009</td>\n",
       "    </tr>\n",
       "    <tr>\n",
       "      <th>270</th>\n",
       "      <td>Gentoo</td>\n",
       "      <td>Biscoe</td>\n",
       "      <td>46.8</td>\n",
       "      <td>14.3</td>\n",
       "      <td>215.0</td>\n",
       "      <td>4850.0</td>\n",
       "      <td>2009</td>\n",
       "    </tr>\n",
       "    <tr>\n",
       "      <th>271</th>\n",
       "      <td>Gentoo</td>\n",
       "      <td>Biscoe</td>\n",
       "      <td>50.4</td>\n",
       "      <td>15.7</td>\n",
       "      <td>222.0</td>\n",
       "      <td>5750.0</td>\n",
       "      <td>2009</td>\n",
       "    </tr>\n",
       "    <tr>\n",
       "      <th>272</th>\n",
       "      <td>Gentoo</td>\n",
       "      <td>Biscoe</td>\n",
       "      <td>45.2</td>\n",
       "      <td>14.8</td>\n",
       "      <td>212.0</td>\n",
       "      <td>5200.0</td>\n",
       "      <td>2009</td>\n",
       "    </tr>\n",
       "    <tr>\n",
       "      <th>273</th>\n",
       "      <td>Gentoo</td>\n",
       "      <td>Biscoe</td>\n",
       "      <td>49.9</td>\n",
       "      <td>16.1</td>\n",
       "      <td>213.0</td>\n",
       "      <td>5400.0</td>\n",
       "      <td>2009</td>\n",
       "    </tr>\n",
       "  </tbody>\n",
       "</table>\n",
       "<p>274 rows × 7 columns</p>\n",
       "</div>"
      ],
      "text/plain": [
       "    species     island  bill_length_mm  bill_depth_mm  flipper_length_mm  \\\n",
       "0    Adelie  Torgersen            39.1           18.7              181.0   \n",
       "1    Adelie  Torgersen            39.5           17.4              186.0   \n",
       "2    Adelie  Torgersen            40.3           18.0              195.0   \n",
       "3    Adelie  Torgersen            36.7           19.3              193.0   \n",
       "4    Adelie  Torgersen            39.3           20.6              190.0   \n",
       "..      ...        ...             ...            ...                ...   \n",
       "269  Gentoo     Biscoe            47.2           13.7              214.0   \n",
       "270  Gentoo     Biscoe            46.8           14.3              215.0   \n",
       "271  Gentoo     Biscoe            50.4           15.7              222.0   \n",
       "272  Gentoo     Biscoe            45.2           14.8              212.0   \n",
       "273  Gentoo     Biscoe            49.9           16.1              213.0   \n",
       "\n",
       "     body_mass_g  year  \n",
       "0         3750.0  2007  \n",
       "1         3800.0  2007  \n",
       "2         3250.0  2007  \n",
       "3         3450.0  2007  \n",
       "4         3650.0  2007  \n",
       "..           ...   ...  \n",
       "269       4925.0  2009  \n",
       "270       4850.0  2009  \n",
       "271       5750.0  2009  \n",
       "272       5200.0  2009  \n",
       "273       5400.0  2009  \n",
       "\n",
       "[274 rows x 7 columns]"
      ]
     },
     "execution_count": 43,
     "metadata": {},
     "output_type": "execute_result"
    }
   ],
   "source": [
    "import pandas as pd\n",
    "import numpy as np\n",
    "\n",
    "df = pd.read_csv('penguins_binary_classification.csv')\n",
    "df"
   ]
  },
  {
   "cell_type": "code",
   "execution_count": 44,
   "metadata": {},
   "outputs": [
    {
     "data": {
      "text/plain": [
       "array(['Biscoe', 'Dream', 'Torgersen'], dtype=object)"
      ]
     },
     "execution_count": 44,
     "metadata": {},
     "output_type": "execute_result"
    }
   ],
   "source": [
    "np.unique(df.island)"
   ]
  },
  {
   "cell_type": "code",
   "execution_count": 45,
   "metadata": {},
   "outputs": [],
   "source": [
    "from sklearn.preprocessing import LabelEncoder\n",
    "\n",
    "encoder = LabelEncoder()\n",
    "\n",
    "df = pd.get_dummies(df, columns=['island'], drop_first=True)\n"
   ]
  },
  {
   "cell_type": "code",
   "execution_count": 46,
   "metadata": {},
   "outputs": [],
   "source": [
    "X = df.drop('species', axis=1)\n",
    "y = df['species']\n",
    "y = encoder.fit_transform(y)"
   ]
  },
  {
   "cell_type": "code",
   "execution_count": 47,
   "metadata": {},
   "outputs": [],
   "source": [
    "from sklearn.model_selection import train_test_split\n",
    "\n",
    "X_train, X_test, y_train, y_test = train_test_split(X, y, test_size=0.2)"
   ]
  },
  {
   "cell_type": "code",
   "execution_count": 48,
   "metadata": {},
   "outputs": [],
   "source": [
    "from sklearn.preprocessing import StandardScaler\n",
    "\n",
    "sc = StandardScaler()\n",
    "\n",
    "X_train_scaled = sc.fit_transform(X_train)\n",
    "X_test_scaled = sc.transform(X_test)\n",
    "\n",
    "X_train = pd.DataFrame(X_train_scaled, columns=X_train.columns)\n",
    "X_test = pd.DataFrame(X_test_scaled, columns=X_test.columns)\n"
   ]
  },
  {
   "cell_type": "code",
   "execution_count": 49,
   "metadata": {},
   "outputs": [
    {
     "data": {
      "text/plain": [
       "array([0, 1])"
      ]
     },
     "execution_count": 49,
     "metadata": {},
     "output_type": "execute_result"
    }
   ],
   "source": [
    "np.unique(y_train)"
   ]
  },
  {
   "cell_type": "code",
   "execution_count": 50,
   "metadata": {},
   "outputs": [
    {
     "data": {
      "text/plain": [
       "array([0, 1, 1, 0, 1, 0, 0, 1, 0, 0, 1, 1, 0, 1, 0, 0, 1, 0, 0, 1, 1, 0,\n",
       "       0, 1, 0, 1, 0, 1, 0, 0, 1, 0, 1, 0, 0, 0, 1, 0, 0, 0, 1, 1, 1, 1,\n",
       "       0, 0, 0, 0, 1, 0, 1, 0, 1, 0, 0, 0, 0, 0, 0, 1, 1, 0, 1, 1, 1, 0,\n",
       "       0, 0, 1, 1, 0, 0, 0, 1, 0, 1, 0, 0, 1, 0, 0, 1, 0, 0, 1, 1, 0, 1,\n",
       "       1, 1, 1, 0, 0, 1, 1, 0, 0, 0, 1, 1, 0, 1, 0, 0, 0, 1, 0, 0, 1, 0,\n",
       "       1, 0, 1, 1, 0, 1, 0, 0, 0, 0, 1, 1, 0, 1, 0, 0, 0, 0, 0, 0, 0, 0,\n",
       "       1, 1, 0, 0, 0, 0, 0, 0, 1, 0, 0, 0, 0, 1, 0, 0, 0, 1, 0, 1, 1, 1,\n",
       "       0, 1, 0, 0, 0, 1, 0, 1, 0, 1, 0, 0, 1, 1, 1, 0, 1, 1, 0, 1, 1, 0,\n",
       "       1, 1, 0, 1, 1, 1, 1, 0, 1, 1, 0, 1, 1, 0, 0, 0, 1, 1, 0, 0, 0, 0,\n",
       "       0, 1, 0, 1, 1, 0, 1, 0, 0, 1, 1, 1, 1, 0, 0, 0, 0, 1, 1, 1, 1])"
      ]
     },
     "execution_count": 50,
     "metadata": {},
     "output_type": "execute_result"
    }
   ],
   "source": [
    "y_train"
   ]
  },
  {
   "cell_type": "code",
   "execution_count": 92,
   "metadata": {},
   "outputs": [
    {
     "name": "stdout",
     "output_type": "stream",
     "text": [
      "R2 score: 0.8541114058355439\n"
     ]
    }
   ],
   "source": [
    "lg = MyBinaryLogisticRegression()\n",
    "\n",
    "lg.fit(X_train, y_train)\n",
    "lg_score = lg.score(X_test, y_test)"
   ]
  },
  {
   "cell_type": "code",
   "execution_count": 94,
   "metadata": {},
   "outputs": [
    {
     "data": {
      "text/plain": [
       "array([ 6.33537988,  2.73644722, -5.05534462,  4.39558354,  2.68077033,\n",
       "        0.04839934, -1.67530105, -1.63720105])"
      ]
     },
     "execution_count": 94,
     "metadata": {},
     "output_type": "execute_result"
    }
   ],
   "source": [
    "lg.coefs_"
   ]
  },
  {
   "cell_type": "code",
   "execution_count": 95,
   "metadata": {},
   "outputs": [
    {
     "data": {
      "text/plain": [
       "array([ 6.33485321,  2.66500567, -4.96699623,  4.3109516 ,  2.61944462,\n",
       "        0.02259855, -1.65303697, -1.61594073])"
      ]
     },
     "execution_count": 95,
     "metadata": {},
     "output_type": "execute_result"
    }
   ],
   "source": [
    "lg_2.coefs_"
   ]
  },
  {
   "cell_type": "code",
   "execution_count": 96,
   "metadata": {},
   "outputs": [
    {
     "data": {
      "text/plain": [
       "array([ 6.3201056 ,  2.47328835, -4.61549211,  3.94248141,  2.4330249 ,\n",
       "        0.0336506 , -1.60868475, -1.57411522])"
      ]
     },
     "execution_count": 96,
     "metadata": {},
     "output_type": "execute_result"
    }
   ],
   "source": [
    "lg_3.coefs_"
   ]
  },
  {
   "cell_type": "code",
   "execution_count": 69,
   "metadata": {},
   "outputs": [],
   "source": [
    "y_pred = lg.predict(X_test)"
   ]
  },
  {
   "cell_type": "code",
   "execution_count": 99,
   "metadata": {},
   "outputs": [
    {
     "name": "stdout",
     "output_type": "stream",
     "text": [
      "R2 score: 0.8541114058355439\n"
     ]
    }
   ],
   "source": [
    "lg_2 = MyBinaryLogisticRegression(regularization='l1', eta=0.001, epochs=10000)\n",
    "\n",
    "lg_2.fit(X_train, y_train)\n",
    "lg_2_score = lg_2.score(X_test, y_test)"
   ]
  },
  {
   "cell_type": "code",
   "execution_count": 110,
   "metadata": {},
   "outputs": [
    {
     "name": "stdout",
     "output_type": "stream",
     "text": [
      "R2 score: 0.8541114058355439\n"
     ]
    }
   ],
   "source": [
    "lg_3 = MyBinaryLogisticRegression(regularization='l2')\n",
    "\n",
    "lg_3.fit(X_train, y_train)\n",
    "lg_3_score = lg_3.score(X_test, y_test)"
   ]
  },
  {
   "cell_type": "code",
   "execution_count": 109,
   "metadata": {},
   "outputs": [
    {
     "name": "stdout",
     "output_type": "stream",
     "text": [
      "R2 score: 0.927055702917772\n"
     ]
    }
   ],
   "source": [
    "lg_4 = MyBinaryLogisticRegression(weight_calc='sgd')\n",
    "\n",
    "lg_4.fit(X_train, y_train)\n",
    "lg_4_score = lg_4.score(X_test, y_test)"
   ]
  },
  {
   "cell_type": "code",
   "execution_count": 127,
   "metadata": {},
   "outputs": [
    {
     "name": "stdout",
     "output_type": "stream",
     "text": [
      "R2 score: 0.927055702917772\n"
     ]
    }
   ],
   "source": [
    "lg_5 = MyBinaryLogisticRegression(weight_calc='sgd', regularization='l2', lambda_2=0.0001, epochs=1000)\n",
    "\n",
    "lg_5.fit(X_train, y_train)\n",
    "lg_5_score = lg_5.score(X_test, y_test)"
   ]
  },
  {
   "cell_type": "code",
   "execution_count": 137,
   "metadata": {},
   "outputs": [
    {
     "name": "stderr",
     "output_type": "stream",
     "text": [
      "/var/folders/s6/6wlfv_992ydd2m6x06w6_g6c0000gn/T/ipykernel_91027/2635646142.py:31: RuntimeWarning: overflow encountered in exp\n",
      "  gradient = - np.dot(y*X.T, 1/(1+np.exp(y*np.dot(X,w))))\n"
     ]
    },
    {
     "name": "stdout",
     "output_type": "stream",
     "text": [
      "R2 score: 0.5623342175066315\n"
     ]
    },
    {
     "name": "stderr",
     "output_type": "stream",
     "text": [
      "/var/folders/s6/6wlfv_992ydd2m6x06w6_g6c0000gn/T/ipykernel_91027/2635646142.py:90: RuntimeWarning: divide by zero encountered in divide\n",
      "  sigmoid_pred = 1 / np.exp(-predictions)\n"
     ]
    }
   ],
   "source": [
    "from sklearn.preprocessing import PolynomialFeatures\n",
    "\n",
    "poly = PolynomialFeatures(degree=3)\n",
    "\n",
    "X_train_poly = poly.fit_transform(X_train)\n",
    "X_test_poly = poly.transform(X_test)\n",
    "\n",
    "lg_6 = MyBinaryLogisticRegression(weight_calc='sgd', regularization='l2', lambda_2=0.001, epochs=1000)\n",
    "\n",
    "lg_6.fit(X_train_poly, y_train)\n",
    "lg_6_score = lg_6.score(X_test_poly, y_test)"
   ]
  },
  {
   "cell_type": "code",
   "execution_count": null,
   "metadata": {},
   "outputs": [],
   "source": []
  },
  {
   "cell_type": "code",
   "execution_count": 122,
   "metadata": {},
   "outputs": [
    {
     "data": {
      "text/plain": [
       "1.0"
      ]
     },
     "execution_count": 122,
     "metadata": {},
     "output_type": "execute_result"
    }
   ],
   "source": [
    "from sklearn.linear_model import LogisticRegression\n",
    "\n",
    "logreg = LogisticRegression(penalty='l2')\n",
    "logreg.fit(X_train, y_train)\n",
    "y_logreg = logreg.predict(X_test)\n",
    "r2_score(y_test,y_logreg)"
   ]
  },
  {
   "cell_type": "code",
   "execution_count": 100,
   "metadata": {},
   "outputs": [
    {
     "data": {
      "image/png": "[encoded data removed]",
      "text/plain": [
       "<Figure size 640x480 with 1 Axes>"
      ]
     },
     "metadata": {},
     "output_type": "display_data"
    }
   ],
   "source": [
    "import matplotlib.pyplot as plt\n",
    "\n",
    "plt.plot(lg.loss_array)\n",
    "plt.title('gd loss')\n",
    "plt.show()"
   ]
  },
  {
   "cell_type": "code",
   "execution_count": 101,
   "metadata": {},
   "outputs": [
    {
     "data": {
      "image/png": "[encoded data removed]",
      "text/plain": [
       "<Figure size 640x480 with 1 Axes>"
      ]
     },
     "metadata": {},
     "output_type": "display_data"
    }
   ],
   "source": [
    "import matplotlib.pyplot as plt\n",
    "\n",
    "plt.plot(lg_2.loss_array)\n",
    "plt.title('gd loss')\n",
    "plt.show()"
   ]
  },
  {
   "cell_type": "code",
   "execution_count": 102,
   "metadata": {},
   "outputs": [
    {
     "data": {
      "image/png": "[encoded data removed]",
      "text/plain": [
       "<Figure size 640x480 with 1 Axes>"
      ]
     },
     "metadata": {},
     "output_type": "display_data"
    }
   ],
   "source": [
    "import matplotlib.pyplot as plt\n",
    "\n",
    "plt.plot(lg_3.loss_array)\n",
    "plt.title('gd loss')\n",
    "plt.show()"
   ]
  }
 ],
 "metadata": {
  "kernelspec": {
   "display_name": "base",
   "language": "python",
   "name": "python3"
  },
  "language_info": {
   "codemirror_mode": {
    "name": "ipython",
    "version": 3
   },
   "file_extension": ".py",
   "mimetype": "text/x-python",
   "name": "python",
   "nbconvert_exporter": "python",
   "pygments_lexer": "ipython3",
   "version": "3.11.4"
  }
 },
 "nbformat": 4,
 "nbformat_minor": 2
}
